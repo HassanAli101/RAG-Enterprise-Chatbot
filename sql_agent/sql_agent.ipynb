{
 "cells": [
  {
   "cell_type": "markdown",
   "metadata": {},
   "source": [
    "# SQL Agent"
   ]
  },
  {
   "cell_type": "code",
   "execution_count": 31,
   "metadata": {},
   "outputs": [
    {
     "name": "stdout",
     "output_type": "stream",
     "text": [
      "Note: you may need to restart the kernel to use updated packages.\n",
      "Note: you may need to restart the kernel to use updated packages.\n",
      "Note: you may need to restart the kernel to use updated packages.\n",
      "Note: you may need to restart the kernel to use updated packages.\n"
     ]
    }
   ],
   "source": [
    "# %pip install -q psycopg2-binary\n",
    "%pip install -q python-dotenv\n",
    "%pip install -q langchain_community\n",
    "%pip install -q langchain-openai\n",
    "%pip install -q langgraph"
   ]
  },
  {
   "cell_type": "code",
   "execution_count": 1,
   "metadata": {},
   "outputs": [],
   "source": [
    "# import psycopg2\n",
    "import os\n",
    "from dotenv import load_dotenv"
   ]
  },
  {
   "cell_type": "code",
   "execution_count": 2,
   "metadata": {},
   "outputs": [],
   "source": [
    "load_dotenv(\"/Users/tariqmehmood/code/cs-6303/RAG-Enterprise-Chatbot/sql_agent/.env\", override=True)\n",
    "DATABASE_URI_RW=os.environ.get(\"DATABASE_URI_RW\")\n",
    "OPENAI_API_KEY=os.environ.get(\"OPENAI_API_KEY\")\n",
    "TAVILY_API_KEY=os.environ[\"TAVILY_API_KEY\"]"
   ]
  },
  {
   "cell_type": "code",
   "execution_count": 3,
   "metadata": {},
   "outputs": [
    {
     "data": {
      "text/plain": [
       "\"[(1, 'Ali Ahmed', 'ali.ahmed@example.com', '03001234567', 'Gulberg, Lahore', 'Visa ****1234', 120, datetime.datetime(2024, 10, 20, 12, 4, 37, 63089))]\""
      ]
     },
     "execution_count": 3,
     "metadata": {},
     "output_type": "execute_result"
    }
   ],
   "source": [
    "from langchain_community.utilities import SQLDatabase\n",
    "\n",
    "db = SQLDatabase.from_uri(DATABASE_URI_RW)\n",
    "# print(db.dialect)\n",
    "# print(db.get_usable_table_names())\n",
    "db.run(\"SELECT * FROM customers LIMIT 1;\")\n",
    "# db.run(\" INSERT INTO Restaurants (Name, Location, CuisineType, Rating, HoursOfOperation) VALUES ('dummy', 'dummy', 'dummy', 4.5, '9:00 AM - 11:00 PM')\")"
   ]
  },
  {
   "cell_type": "code",
   "execution_count": 4,
   "metadata": {},
   "outputs": [],
   "source": [
    "from langchain_openai import ChatOpenAI\n",
    "\n",
    "llm = ChatOpenAI(model=\"gpt-4o-mini\")"
   ]
  },
  {
   "cell_type": "code",
   "execution_count": 5,
   "metadata": {},
   "outputs": [],
   "source": [
    "from langchain_core.prompts import SystemMessagePromptTemplate\n",
    "\n",
    "system_template_sql_agent = \"\"\"You are an agent designed to interact with a SQL database.\n",
    "Given an input question, create a syntactically correct {dialect} query to run, then look at the results of the query and return the answer.\n",
    "Always limit your query to at most {top_k} results.\n",
    "You can order the results by a relevant column to return the most interesting examples in the database.\n",
    "Never query for all the columns from a specific table, only ask for the relevant columns given the question.\n",
    "You have access to tools for interacting with the database.\n",
    "Only use the below tools. Only use the information returned by the below tools to construct your final answer.\n",
    "You MUST double check your query before executing it. If you get an error while executing a query, rewrite the query and try again.\n",
    "If you get an InsufficientPrivilege error, respond with the following message:\n",
    "\n",
    "“I'm unable to perform this operation directly. Please contact our support team at 23030009@lums.edu.pk, and they'll assist you with this.”\n",
    "\n",
    "To start you should ALWAYS look at the tables in the database to see what you can query.\n",
    "Do NOT skip this step.\n",
    "Then you should query the schema of the most relevant tables.\"\"\"\n",
    "\n",
    "system_template_sql_agent = SystemMessagePromptTemplate.from_template(system_template_sql_agent)\n",
    "system_message_sql_agent = system_template_sql_agent.format(\n",
    "    dialect=\"PostgreSQL\", top_k=5\n",
    ")\n",
    "# system_message_sql_agent.pretty_print()"
   ]
  },
  {
   "cell_type": "code",
   "execution_count": 6,
   "metadata": {},
   "outputs": [
    {
     "data": {
      "text/plain": [
       "{'sql_db_query': QuerySQLDataBaseTool(description=\"Input to this tool is a detailed and correct SQL query, output is a result from the database. If the query is not correct, an error message will be returned. If an error is returned, rewrite the query, check the query, and try again. If you encounter an issue with Unknown column 'xxxx' in 'field list', use sql_db_schema to query the correct table fields.\", db=<langchain_community.utilities.sql_database.SQLDatabase object at 0x10abe3dd0>),\n",
       " 'sql_db_schema': InfoSQLDatabaseTool(description='Input to this tool is a comma-separated list of tables, output is the schema and sample rows for those tables. Be sure that the tables actually exist by calling sql_db_list_tables first! Example Input: table1, table2, table3', db=<langchain_community.utilities.sql_database.SQLDatabase object at 0x10abe3dd0>),\n",
       " 'sql_db_list_tables': ListSQLDatabaseTool(db=<langchain_community.utilities.sql_database.SQLDatabase object at 0x10abe3dd0>),\n",
       " 'sql_db_query_checker': QuerySQLCheckerTool(description='Use this tool to double check if your query is correct before executing it. Always use this tool before executing a query with sql_db_query!', db=<langchain_community.utilities.sql_database.SQLDatabase object at 0x10abe3dd0>, llm=ChatOpenAI(client=<openai.resources.chat.completions.Completions object at 0x10d35c990>, async_client=<openai.resources.chat.completions.AsyncCompletions object at 0x10d380cd0>, root_client=<openai.OpenAI object at 0x10c942650>, root_async_client=<openai.AsyncOpenAI object at 0x10d35cb50>, model_name='gpt-4o-mini', model_kwargs={}, openai_api_key=SecretStr('**********')), llm_chain=LLMChain(verbose=False, prompt=PromptTemplate(input_variables=['dialect', 'query'], input_types={}, partial_variables={}, template='\\n{query}\\nDouble check the {dialect} query above for common mistakes, including:\\n- Using NOT IN with NULL values\\n- Using UNION when UNION ALL should have been used\\n- Using BETWEEN for exclusive ranges\\n- Data type mismatch in predicates\\n- Properly quoting identifiers\\n- Using the correct number of arguments for functions\\n- Casting to the correct data type\\n- Using the proper columns for joins\\n\\nIf there are any of the above mistakes, rewrite the query. If there are no mistakes, just reproduce the original query.\\n\\nOutput the final SQL query only.\\n\\nSQL Query: '), llm=ChatOpenAI(client=<openai.resources.chat.completions.Completions object at 0x10d35c990>, async_client=<openai.resources.chat.completions.AsyncCompletions object at 0x10d380cd0>, root_client=<openai.OpenAI object at 0x10c942650>, root_async_client=<openai.AsyncOpenAI object at 0x10d35cb50>, model_name='gpt-4o-mini', model_kwargs={}, openai_api_key=SecretStr('**********')), output_parser=StrOutputParser(), llm_kwargs={}))}"
      ]
     },
     "execution_count": 6,
     "metadata": {},
     "output_type": "execute_result"
    }
   ],
   "source": [
    "from langchain_community.agent_toolkits import SQLDatabaseToolkit\n",
    "\n",
    "toolkit = SQLDatabaseToolkit(db=db, llm=llm)\n",
    "tools = toolkit.get_tools()\n",
    "tools = {tool.name:tool for tool in tools}\n",
    "tools"
   ]
  },
  {
   "cell_type": "code",
   "execution_count": 7,
   "metadata": {},
   "outputs": [],
   "source": [
    "from typing import Annotated\n",
    "from typing_extensions import TypedDict\n",
    "from langgraph.checkpoint.memory import MemorySaver\n",
    "from langgraph.graph import StateGraph, START, END\n",
    "from langgraph.graph.message import add_messages\n",
    "from langgraph.prebuilt import ToolNode, tools_condition\n",
    "\n",
    "memory = MemorySaver()\n",
    "\n",
    "class State(TypedDict):\n",
    "    messages: Annotated[list, add_messages]\n",
    "\n",
    "graph_builder = StateGraph(State)\n",
    "\n",
    "llm_with_tools = llm.bind_tools(list(tools.values()))\n",
    "\n",
    "def llm_node(state: State):\n",
    "    return {\"messages\": [llm_with_tools.invoke(state[\"messages\"])]}\n",
    "\n",
    "graph_builder.add_node(\"llm_node\", llm_node)\n",
    "graph_builder.add_node(\"tools\", ToolNode(list(tools.values())))\n",
    "\n",
    "graph_builder.add_edge(START, \"llm_node\")\n",
    "graph_builder.add_conditional_edges(\n",
    "    \"llm_node\",\n",
    "    tools_condition,\n",
    ")\n",
    "graph_builder.add_edge(\"tools\", \"llm_node\")\n",
    "sql_agent = graph_builder.compile(checkpointer=memory)"
   ]
  },
  {
   "cell_type": "code",
   "execution_count": 39,
   "metadata": {},
   "outputs": [
    {
     "data": {
      "image/png": "[encoded data removed]",
      "text/plain": [
       "<IPython.core.display.Image object>"
      ]
     },
     "metadata": {},
     "output_type": "display_data"
    }
   ],
   "source": [
    "from IPython.display import Image, display\n",
    "\n",
    "# Setting xray to 1 will show the internal structure of the nested graph\n",
    "display(Image(sql_agent.get_graph(xray=1).draw_mermaid_png()))"
   ]
  },
  {
   "cell_type": "code",
   "execution_count": 61,
   "metadata": {},
   "outputs": [
    {
     "data": {
      "text/plain": [
       "{'configurable': {'thread_id': '1',\n",
       "  'checkpoint_ns': '',\n",
       "  'checkpoint_id': '1efb65c2-6116-6866-8000-5689bd910d5d'}}"
      ]
     },
     "execution_count": 61,
     "metadata": {},
     "output_type": "execute_result"
    }
   ],
   "source": [
    "config = {\"configurable\": {\"thread_id\": \"1\"}}\n",
    "sql_agent.update_state(config=config, values={\"messages\": system_message_sql_agent})"
   ]
  },
  {
   "cell_type": "code",
   "execution_count": null,
   "metadata": {},
   "outputs": [
    {
     "data": {
      "text/plain": [
       "{'messages': [SystemMessage(content=\"You are an agent designed to interact with a SQL database.\\nGiven an input question, create a syntactically correct PostgreSQL query to run, then look at the results of the query and return the answer.\\nAlways limit your query to at most 5 results.\\nYou can order the results by a relevant column to return the most interesting examples in the database.\\nNever query for all the columns from a specific table, only ask for the relevant columns given the question.\\nYou have access to tools for interacting with the database.\\nOnly use the below tools. Only use the information returned by the below tools to construct your final answer.\\nYou MUST double check your query before executing it. If you get an error while executing a query, rewrite the query and try again.\\nIf you get an InsufficientPrivilege error, respond with the following message:\\n\\n“I'm unable to perform this operation directly. Please contact our support team at 23030009@lums.edu.pk, and they'll assist you with this.”\\n\\nTo start you should ALWAYS look at the tables in the database to see what you can query.\\nDo NOT skip this step.\\nThen you should query the schema of the most relevant tables.\", additional_kwargs={}, response_metadata={}, id='2eb55e73-ec1f-4204-9bae-ac5c86b562c5')]}"
      ]
     },
     "execution_count": 62,
     "metadata": {},
     "output_type": "execute_result"
    }
   ],
   "source": [
    "# this should be avoided because system messages should be dynamic\n",
    "sql_agent.get_state(config=config).values"
   ]
  },
  {
   "cell_type": "code",
   "execution_count": 41,
   "metadata": {},
   "outputs": [],
   "source": [
    "from langchain_core.messages import HumanMessage\n",
    "\n",
    "def stream_graph_updates(graph, user_input: str, config):\n",
    "    events = graph.stream(\n",
    "        {\"messages\": [HumanMessage(content=user_input)]}, config, stream_mode=\"values\"\n",
    "    )\n",
    "    for event in events:\n",
    "        if \"messages\" in event:\n",
    "            event[\"messages\"][-1].pretty_print()"
   ]
  },
  {
   "cell_type": "code",
   "execution_count": null,
   "metadata": {},
   "outputs": [
    {
     "name": "stdout",
     "output_type": "stream",
     "text": [
      "Goodbye!\n"
     ]
    }
   ],
   "source": [
    "while True:\n",
    "    try:\n",
    "        user_input = input(\"User: \")\n",
    "        if user_input.lower() in [\"quit\", \"exit\", \"q\"]:\n",
    "            print(\"Goodbye!\")\n",
    "            break\n",
    "        stream_graph_updates(sql_agent, user_input, config=config)\n",
    "    except:\n",
    "        print(\"Invalid Input!\")\n",
    "        break"
   ]
  },
  {
   "cell_type": "code",
   "execution_count": 43,
   "metadata": {},
   "outputs": [],
   "source": [
    "from langchain_core.messages import AIMessage\n",
    "snapshot = sql_agent.get_state(config=config)\n",
    "for message in snapshot.values[\"messages\"]:\n",
    "    if message.type in ['ai', 'human'] and 'tool_calls' not in message.additional_kwargs:\n",
    "        message.pretty_print()"
   ]
  },
  {
   "cell_type": "code",
   "execution_count": 44,
   "metadata": {},
   "outputs": [
    {
     "name": "stdout",
     "output_type": "stream",
     "text": [
      "================================\u001b[1m Human Message \u001b[0m=================================\n",
      "\n",
      "Hi, my name is Umar Siddiqui and my CustomerID is 7. Can you check the status of my latest order?\n",
      "==================================\u001b[1m Ai Message \u001b[0m==================================\n",
      "Tool Calls:\n",
      "  sql_db_list_tables (call_eNFTavJzYWXN9q6Cv99HxSDC)\n",
      " Call ID: call_eNFTavJzYWXN9q6Cv99HxSDC\n",
      "  Args:\n",
      "=================================\u001b[1m Tool Message \u001b[0m=================================\n",
      "Name: sql_db_list_tables\n",
      "\n",
      "customers, deliverypersonnel, feedbackcomplaints, fooditems, orderitems, orders, payments, restaurants\n",
      "==================================\u001b[1m Ai Message \u001b[0m==================================\n",
      "Tool Calls:\n",
      "  sql_db_schema (call_5Sr0TqUUin1pb23ZAsGdToT6)\n",
      " Call ID: call_5Sr0TqUUin1pb23ZAsGdToT6\n",
      "  Args:\n",
      "    table_names: orders\n",
      "  sql_db_schema (call_2QNdMjerR5GoFE51H00j7Lpp)\n",
      " Call ID: call_2QNdMjerR5GoFE51H00j7Lpp\n",
      "  Args:\n",
      "    table_names: orderitems\n"
     ]
    },
    {
     "ename": "KeyboardInterrupt",
     "evalue": "",
     "output_type": "error",
     "traceback": [
      "\u001b[0;31m---------------------------------------------------------------------------\u001b[0m",
      "\u001b[0;31mKeyboardInterrupt\u001b[0m                         Traceback (most recent call last)",
      "Cell \u001b[0;32mIn[44], line 16\u001b[0m\n\u001b[1;32m     14\u001b[0m sql_agent\u001b[38;5;241m.\u001b[39mupdate_state(config\u001b[38;5;241m=\u001b[39mconfig, values\u001b[38;5;241m=\u001b[39m{\u001b[38;5;124m\"\u001b[39m\u001b[38;5;124mmessages\u001b[39m\u001b[38;5;124m\"\u001b[39m: system_message_sql_agent})\n\u001b[1;32m     15\u001b[0m \u001b[38;5;28;01mfor\u001b[39;00m user_input \u001b[38;5;129;01min\u001b[39;00m order_status_details:\n\u001b[0;32m---> 16\u001b[0m     \u001b[43mstream_graph_updates\u001b[49m\u001b[43m(\u001b[49m\u001b[43msql_agent\u001b[49m\u001b[43m,\u001b[49m\u001b[43m \u001b[49m\u001b[43muser_input\u001b[49m\u001b[43m,\u001b[49m\u001b[43m \u001b[49m\u001b[43mconfig\u001b[49m\u001b[38;5;241;43m=\u001b[39;49m\u001b[43mconfig\u001b[49m\u001b[43m)\u001b[49m\n",
      "Cell \u001b[0;32mIn[41], line 7\u001b[0m, in \u001b[0;36mstream_graph_updates\u001b[0;34m(graph, user_input, config)\u001b[0m\n\u001b[1;32m      3\u001b[0m \u001b[38;5;28;01mdef\u001b[39;00m \u001b[38;5;21mstream_graph_updates\u001b[39m(graph, user_input: \u001b[38;5;28mstr\u001b[39m, config):\n\u001b[1;32m      4\u001b[0m     events \u001b[38;5;241m=\u001b[39m graph\u001b[38;5;241m.\u001b[39mstream(\n\u001b[1;32m      5\u001b[0m         {\u001b[38;5;124m\"\u001b[39m\u001b[38;5;124mmessages\u001b[39m\u001b[38;5;124m\"\u001b[39m: [HumanMessage(content\u001b[38;5;241m=\u001b[39muser_input)]}, config, stream_mode\u001b[38;5;241m=\u001b[39m\u001b[38;5;124m\"\u001b[39m\u001b[38;5;124mvalues\u001b[39m\u001b[38;5;124m\"\u001b[39m\n\u001b[1;32m      6\u001b[0m     )\n\u001b[0;32m----> 7\u001b[0m \u001b[43m    \u001b[49m\u001b[38;5;28;43;01mfor\u001b[39;49;00m\u001b[43m \u001b[49m\u001b[43mevent\u001b[49m\u001b[43m \u001b[49m\u001b[38;5;129;43;01min\u001b[39;49;00m\u001b[43m \u001b[49m\u001b[43mevents\u001b[49m\u001b[43m:\u001b[49m\n\u001b[1;32m      8\u001b[0m \u001b[43m        \u001b[49m\u001b[38;5;28;43;01mif\u001b[39;49;00m\u001b[43m \u001b[49m\u001b[38;5;124;43m\"\u001b[39;49m\u001b[38;5;124;43mmessages\u001b[39;49m\u001b[38;5;124;43m\"\u001b[39;49m\u001b[43m \u001b[49m\u001b[38;5;129;43;01min\u001b[39;49;00m\u001b[43m \u001b[49m\u001b[43mevent\u001b[49m\u001b[43m:\u001b[49m\n\u001b[1;32m      9\u001b[0m \u001b[43m            \u001b[49m\u001b[43mevent\u001b[49m\u001b[43m[\u001b[49m\u001b[38;5;124;43m\"\u001b[39;49m\u001b[38;5;124;43mmessages\u001b[39;49m\u001b[38;5;124;43m\"\u001b[39;49m\u001b[43m]\u001b[49m\u001b[43m[\u001b[49m\u001b[38;5;241;43m-\u001b[39;49m\u001b[38;5;241;43m1\u001b[39;49m\u001b[43m]\u001b[49m\u001b[38;5;241;43m.\u001b[39;49m\u001b[43mpretty_print\u001b[49m\u001b[43m(\u001b[49m\u001b[43m)\u001b[49m\n",
      "File \u001b[0;32m/opt/homebrew/Caskroom/miniconda/base/envs/cs6303/lib/python3.11/site-packages/langgraph/pregel/__init__.py:1315\u001b[0m, in \u001b[0;36mPregel.stream\u001b[0;34m(self, input, config, stream_mode, output_keys, interrupt_before, interrupt_after, debug, subgraphs)\u001b[0m\n\u001b[1;32m   1304\u001b[0m     \u001b[38;5;66;03m# Similarly to Bulk Synchronous Parallel / Pregel model\u001b[39;00m\n\u001b[1;32m   1305\u001b[0m     \u001b[38;5;66;03m# computation proceeds in steps, while there are channel updates\u001b[39;00m\n\u001b[1;32m   1306\u001b[0m     \u001b[38;5;66;03m# channel updates from step N are only visible in step N+1\u001b[39;00m\n\u001b[1;32m   1307\u001b[0m     \u001b[38;5;66;03m# channels are guaranteed to be immutable for the duration of the step,\u001b[39;00m\n\u001b[1;32m   1308\u001b[0m     \u001b[38;5;66;03m# with channel updates applied only at the transition between steps\u001b[39;00m\n\u001b[1;32m   1309\u001b[0m     \u001b[38;5;28;01mwhile\u001b[39;00m loop\u001b[38;5;241m.\u001b[39mtick(\n\u001b[1;32m   1310\u001b[0m         input_keys\u001b[38;5;241m=\u001b[39m\u001b[38;5;28mself\u001b[39m\u001b[38;5;241m.\u001b[39minput_channels,\n\u001b[1;32m   1311\u001b[0m         interrupt_before\u001b[38;5;241m=\u001b[39minterrupt_before_,\n\u001b[1;32m   1312\u001b[0m         interrupt_after\u001b[38;5;241m=\u001b[39minterrupt_after_,\n\u001b[1;32m   1313\u001b[0m         manager\u001b[38;5;241m=\u001b[39mrun_manager,\n\u001b[1;32m   1314\u001b[0m     ):\n\u001b[0;32m-> 1315\u001b[0m \u001b[43m        \u001b[49m\u001b[38;5;28;43;01mfor\u001b[39;49;00m\u001b[43m \u001b[49m\u001b[43m_\u001b[49m\u001b[43m \u001b[49m\u001b[38;5;129;43;01min\u001b[39;49;00m\u001b[43m \u001b[49m\u001b[43mrunner\u001b[49m\u001b[38;5;241;43m.\u001b[39;49m\u001b[43mtick\u001b[49m\u001b[43m(\u001b[49m\n\u001b[1;32m   1316\u001b[0m \u001b[43m            \u001b[49m\u001b[43mloop\u001b[49m\u001b[38;5;241;43m.\u001b[39;49m\u001b[43mtasks\u001b[49m\u001b[38;5;241;43m.\u001b[39;49m\u001b[43mvalues\u001b[49m\u001b[43m(\u001b[49m\u001b[43m)\u001b[49m\u001b[43m,\u001b[49m\n\u001b[1;32m   1317\u001b[0m \u001b[43m            \u001b[49m\u001b[43mtimeout\u001b[49m\u001b[38;5;241;43m=\u001b[39;49m\u001b[38;5;28;43mself\u001b[39;49m\u001b[38;5;241;43m.\u001b[39;49m\u001b[43mstep_timeout\u001b[49m\u001b[43m,\u001b[49m\n\u001b[1;32m   1318\u001b[0m \u001b[43m            \u001b[49m\u001b[43mretry_policy\u001b[49m\u001b[38;5;241;43m=\u001b[39;49m\u001b[38;5;28;43mself\u001b[39;49m\u001b[38;5;241;43m.\u001b[39;49m\u001b[43mretry_policy\u001b[49m\u001b[43m,\u001b[49m\n\u001b[1;32m   1319\u001b[0m \u001b[43m            \u001b[49m\u001b[43mget_waiter\u001b[49m\u001b[38;5;241;43m=\u001b[39;49m\u001b[43mget_waiter\u001b[49m\u001b[43m,\u001b[49m\n\u001b[1;32m   1320\u001b[0m \u001b[43m        \u001b[49m\u001b[43m)\u001b[49m\u001b[43m:\u001b[49m\n\u001b[1;32m   1321\u001b[0m \u001b[43m            \u001b[49m\u001b[38;5;66;43;03m# emit output\u001b[39;49;00m\n\u001b[1;32m   1322\u001b[0m \u001b[43m            \u001b[49m\u001b[38;5;28;43;01myield from\u001b[39;49;00m\u001b[43m \u001b[49m\u001b[43moutput\u001b[49m\u001b[43m(\u001b[49m\u001b[43m)\u001b[49m\n\u001b[1;32m   1323\u001b[0m \u001b[38;5;66;03m# emit output\u001b[39;00m\n",
      "File \u001b[0;32m/opt/homebrew/Caskroom/miniconda/base/envs/cs6303/lib/python3.11/site-packages/langgraph/pregel/runner.py:56\u001b[0m, in \u001b[0;36mPregelRunner.tick\u001b[0;34m(self, tasks, reraise, timeout, retry_policy, get_waiter)\u001b[0m\n\u001b[1;32m     54\u001b[0m t \u001b[38;5;241m=\u001b[39m tasks[\u001b[38;5;241m0\u001b[39m]\n\u001b[1;32m     55\u001b[0m \u001b[38;5;28;01mtry\u001b[39;00m:\n\u001b[0;32m---> 56\u001b[0m     \u001b[43mrun_with_retry\u001b[49m\u001b[43m(\u001b[49m\u001b[43mt\u001b[49m\u001b[43m,\u001b[49m\u001b[43m \u001b[49m\u001b[43mretry_policy\u001b[49m\u001b[43m)\u001b[49m\n\u001b[1;32m     57\u001b[0m     \u001b[38;5;28mself\u001b[39m\u001b[38;5;241m.\u001b[39mcommit(t, \u001b[38;5;28;01mNone\u001b[39;00m)\n\u001b[1;32m     58\u001b[0m \u001b[38;5;28;01mexcept\u001b[39;00m \u001b[38;5;167;01mException\u001b[39;00m \u001b[38;5;28;01mas\u001b[39;00m exc:\n",
      "File \u001b[0;32m/opt/homebrew/Caskroom/miniconda/base/envs/cs6303/lib/python3.11/site-packages/langgraph/pregel/retry.py:29\u001b[0m, in \u001b[0;36mrun_with_retry\u001b[0;34m(task, retry_policy)\u001b[0m\n\u001b[1;32m     27\u001b[0m task\u001b[38;5;241m.\u001b[39mwrites\u001b[38;5;241m.\u001b[39mclear()\n\u001b[1;32m     28\u001b[0m \u001b[38;5;66;03m# run the task\u001b[39;00m\n\u001b[0;32m---> 29\u001b[0m \u001b[43mtask\u001b[49m\u001b[38;5;241;43m.\u001b[39;49m\u001b[43mproc\u001b[49m\u001b[38;5;241;43m.\u001b[39;49m\u001b[43minvoke\u001b[49m\u001b[43m(\u001b[49m\u001b[43mtask\u001b[49m\u001b[38;5;241;43m.\u001b[39;49m\u001b[43minput\u001b[49m\u001b[43m,\u001b[49m\u001b[43m \u001b[49m\u001b[43mconfig\u001b[49m\u001b[43m)\u001b[49m\n\u001b[1;32m     30\u001b[0m \u001b[38;5;66;03m# if successful, end\u001b[39;00m\n\u001b[1;32m     31\u001b[0m \u001b[38;5;28;01mbreak\u001b[39;00m\n",
      "File \u001b[0;32m/opt/homebrew/Caskroom/miniconda/base/envs/cs6303/lib/python3.11/site-packages/langgraph/utils/runnable.py:410\u001b[0m, in \u001b[0;36mRunnableSeq.invoke\u001b[0;34m(self, input, config, **kwargs)\u001b[0m\n\u001b[1;32m    408\u001b[0m context\u001b[38;5;241m.\u001b[39mrun(_set_config_context, config)\n\u001b[1;32m    409\u001b[0m \u001b[38;5;28;01mif\u001b[39;00m i \u001b[38;5;241m==\u001b[39m \u001b[38;5;241m0\u001b[39m:\n\u001b[0;32m--> 410\u001b[0m     \u001b[38;5;28minput\u001b[39m \u001b[38;5;241m=\u001b[39m \u001b[43mcontext\u001b[49m\u001b[38;5;241;43m.\u001b[39;49m\u001b[43mrun\u001b[49m\u001b[43m(\u001b[49m\u001b[43mstep\u001b[49m\u001b[38;5;241;43m.\u001b[39;49m\u001b[43minvoke\u001b[49m\u001b[43m,\u001b[49m\u001b[43m \u001b[49m\u001b[38;5;28;43minput\u001b[39;49m\u001b[43m,\u001b[49m\u001b[43m \u001b[49m\u001b[43mconfig\u001b[49m\u001b[43m,\u001b[49m\u001b[43m \u001b[49m\u001b[38;5;241;43m*\u001b[39;49m\u001b[38;5;241;43m*\u001b[39;49m\u001b[43mkwargs\u001b[49m\u001b[43m)\u001b[49m\n\u001b[1;32m    411\u001b[0m \u001b[38;5;28;01melse\u001b[39;00m:\n\u001b[1;32m    412\u001b[0m     \u001b[38;5;28minput\u001b[39m \u001b[38;5;241m=\u001b[39m context\u001b[38;5;241m.\u001b[39mrun(step\u001b[38;5;241m.\u001b[39minvoke, \u001b[38;5;28minput\u001b[39m, config)\n",
      "File \u001b[0;32m/opt/homebrew/Caskroom/miniconda/base/envs/cs6303/lib/python3.11/site-packages/langgraph/prebuilt/tool_node.py:141\u001b[0m, in \u001b[0;36mToolNode.invoke\u001b[0;34m(self, input, config, **kwargs)\u001b[0m\n\u001b[1;32m    139\u001b[0m \u001b[38;5;28;01mif\u001b[39;00m \u001b[38;5;124m\"\u001b[39m\u001b[38;5;124mstore\u001b[39m\u001b[38;5;124m\"\u001b[39m \u001b[38;5;129;01mnot\u001b[39;00m \u001b[38;5;129;01min\u001b[39;00m kwargs:\n\u001b[1;32m    140\u001b[0m     kwargs[\u001b[38;5;124m\"\u001b[39m\u001b[38;5;124mstore\u001b[39m\u001b[38;5;124m\"\u001b[39m] \u001b[38;5;241m=\u001b[39m \u001b[38;5;28;01mNone\u001b[39;00m\n\u001b[0;32m--> 141\u001b[0m \u001b[38;5;28;01mreturn\u001b[39;00m \u001b[38;5;28;43msuper\u001b[39;49m\u001b[43m(\u001b[49m\u001b[43m)\u001b[49m\u001b[38;5;241;43m.\u001b[39;49m\u001b[43minvoke\u001b[49m\u001b[43m(\u001b[49m\u001b[38;5;28;43minput\u001b[39;49m\u001b[43m,\u001b[49m\u001b[43m \u001b[49m\u001b[43mconfig\u001b[49m\u001b[43m,\u001b[49m\u001b[43m \u001b[49m\u001b[38;5;241;43m*\u001b[39;49m\u001b[38;5;241;43m*\u001b[39;49m\u001b[43mkwargs\u001b[49m\u001b[43m)\u001b[49m\n",
      "File \u001b[0;32m/opt/homebrew/Caskroom/miniconda/base/envs/cs6303/lib/python3.11/site-packages/langgraph/utils/runnable.py:184\u001b[0m, in \u001b[0;36mRunnableCallable.invoke\u001b[0;34m(self, input, config, **kwargs)\u001b[0m\n\u001b[1;32m    182\u001b[0m \u001b[38;5;28;01melse\u001b[39;00m:\n\u001b[1;32m    183\u001b[0m     context\u001b[38;5;241m.\u001b[39mrun(_set_config_context, config)\n\u001b[0;32m--> 184\u001b[0m     ret \u001b[38;5;241m=\u001b[39m \u001b[43mcontext\u001b[49m\u001b[38;5;241;43m.\u001b[39;49m\u001b[43mrun\u001b[49m\u001b[43m(\u001b[49m\u001b[38;5;28;43mself\u001b[39;49m\u001b[38;5;241;43m.\u001b[39;49m\u001b[43mfunc\u001b[49m\u001b[43m,\u001b[49m\u001b[43m \u001b[49m\u001b[38;5;28;43minput\u001b[39;49m\u001b[43m,\u001b[49m\u001b[43m \u001b[49m\u001b[38;5;241;43m*\u001b[39;49m\u001b[38;5;241;43m*\u001b[39;49m\u001b[43mkwargs\u001b[49m\u001b[43m)\u001b[49m\n\u001b[1;32m    185\u001b[0m \u001b[38;5;28;01mif\u001b[39;00m \u001b[38;5;28misinstance\u001b[39m(ret, Runnable) \u001b[38;5;129;01mand\u001b[39;00m \u001b[38;5;28mself\u001b[39m\u001b[38;5;241m.\u001b[39mrecurse:\n\u001b[1;32m    186\u001b[0m     \u001b[38;5;28;01mreturn\u001b[39;00m ret\u001b[38;5;241m.\u001b[39minvoke(\u001b[38;5;28minput\u001b[39m, config)\n",
      "File \u001b[0;32m/opt/homebrew/Caskroom/miniconda/base/envs/cs6303/lib/python3.11/site-packages/langgraph/prebuilt/tool_node.py:132\u001b[0m, in \u001b[0;36mToolNode._func\u001b[0;34m(self, input, config, store)\u001b[0m\n\u001b[1;32m    130\u001b[0m config_list \u001b[38;5;241m=\u001b[39m get_config_list(config, \u001b[38;5;28mlen\u001b[39m(tool_calls))\n\u001b[1;32m    131\u001b[0m \u001b[38;5;28;01mwith\u001b[39;00m get_executor_for_config(config) \u001b[38;5;28;01mas\u001b[39;00m executor:\n\u001b[0;32m--> 132\u001b[0m     outputs \u001b[38;5;241m=\u001b[39m [\u001b[38;5;241m*\u001b[39mexecutor\u001b[38;5;241m.\u001b[39mmap(\u001b[38;5;28mself\u001b[39m\u001b[38;5;241m.\u001b[39m_run_one, tool_calls, config_list)]\n\u001b[1;32m    133\u001b[0m \u001b[38;5;66;03m# TypedDict, pydantic, dataclass, etc. should all be able to load from dict\u001b[39;00m\n\u001b[1;32m    134\u001b[0m \u001b[38;5;28;01mreturn\u001b[39;00m outputs \u001b[38;5;28;01mif\u001b[39;00m output_type \u001b[38;5;241m==\u001b[39m \u001b[38;5;124m\"\u001b[39m\u001b[38;5;124mlist\u001b[39m\u001b[38;5;124m\"\u001b[39m \u001b[38;5;28;01melse\u001b[39;00m {\u001b[38;5;124m\"\u001b[39m\u001b[38;5;124mmessages\u001b[39m\u001b[38;5;124m\"\u001b[39m: outputs}\n",
      "File \u001b[0;32m/opt/homebrew/Caskroom/miniconda/base/envs/cs6303/lib/python3.11/concurrent/futures/_base.py:619\u001b[0m, in \u001b[0;36mExecutor.map.<locals>.result_iterator\u001b[0;34m()\u001b[0m\n\u001b[1;32m    616\u001b[0m \u001b[38;5;28;01mwhile\u001b[39;00m fs:\n\u001b[1;32m    617\u001b[0m     \u001b[38;5;66;03m# Careful not to keep a reference to the popped future\u001b[39;00m\n\u001b[1;32m    618\u001b[0m     \u001b[38;5;28;01mif\u001b[39;00m timeout \u001b[38;5;129;01mis\u001b[39;00m \u001b[38;5;28;01mNone\u001b[39;00m:\n\u001b[0;32m--> 619\u001b[0m         \u001b[38;5;28;01myield\u001b[39;00m \u001b[43m_result_or_cancel\u001b[49m\u001b[43m(\u001b[49m\u001b[43mfs\u001b[49m\u001b[38;5;241;43m.\u001b[39;49m\u001b[43mpop\u001b[49m\u001b[43m(\u001b[49m\u001b[43m)\u001b[49m\u001b[43m)\u001b[49m\n\u001b[1;32m    620\u001b[0m     \u001b[38;5;28;01melse\u001b[39;00m:\n\u001b[1;32m    621\u001b[0m         \u001b[38;5;28;01myield\u001b[39;00m _result_or_cancel(fs\u001b[38;5;241m.\u001b[39mpop(), end_time \u001b[38;5;241m-\u001b[39m time\u001b[38;5;241m.\u001b[39mmonotonic())\n",
      "File \u001b[0;32m/opt/homebrew/Caskroom/miniconda/base/envs/cs6303/lib/python3.11/concurrent/futures/_base.py:317\u001b[0m, in \u001b[0;36m_result_or_cancel\u001b[0;34m(***failed resolving arguments***)\u001b[0m\n\u001b[1;32m    315\u001b[0m \u001b[38;5;28;01mtry\u001b[39;00m:\n\u001b[1;32m    316\u001b[0m     \u001b[38;5;28;01mtry\u001b[39;00m:\n\u001b[0;32m--> 317\u001b[0m         \u001b[38;5;28;01mreturn\u001b[39;00m \u001b[43mfut\u001b[49m\u001b[38;5;241;43m.\u001b[39;49m\u001b[43mresult\u001b[49m\u001b[43m(\u001b[49m\u001b[43mtimeout\u001b[49m\u001b[43m)\u001b[49m\n\u001b[1;32m    318\u001b[0m     \u001b[38;5;28;01mfinally\u001b[39;00m:\n\u001b[1;32m    319\u001b[0m         fut\u001b[38;5;241m.\u001b[39mcancel()\n",
      "File \u001b[0;32m/opt/homebrew/Caskroom/miniconda/base/envs/cs6303/lib/python3.11/concurrent/futures/_base.py:451\u001b[0m, in \u001b[0;36mFuture.result\u001b[0;34m(self, timeout)\u001b[0m\n\u001b[1;32m    448\u001b[0m \u001b[38;5;28;01melif\u001b[39;00m \u001b[38;5;28mself\u001b[39m\u001b[38;5;241m.\u001b[39m_state \u001b[38;5;241m==\u001b[39m FINISHED:\n\u001b[1;32m    449\u001b[0m     \u001b[38;5;28;01mreturn\u001b[39;00m \u001b[38;5;28mself\u001b[39m\u001b[38;5;241m.\u001b[39m__get_result()\n\u001b[0;32m--> 451\u001b[0m \u001b[38;5;28;43mself\u001b[39;49m\u001b[38;5;241;43m.\u001b[39;49m\u001b[43m_condition\u001b[49m\u001b[38;5;241;43m.\u001b[39;49m\u001b[43mwait\u001b[49m\u001b[43m(\u001b[49m\u001b[43mtimeout\u001b[49m\u001b[43m)\u001b[49m\n\u001b[1;32m    453\u001b[0m \u001b[38;5;28;01mif\u001b[39;00m \u001b[38;5;28mself\u001b[39m\u001b[38;5;241m.\u001b[39m_state \u001b[38;5;129;01min\u001b[39;00m [CANCELLED, CANCELLED_AND_NOTIFIED]:\n\u001b[1;32m    454\u001b[0m     \u001b[38;5;28;01mraise\u001b[39;00m CancelledError()\n",
      "File \u001b[0;32m/opt/homebrew/Caskroom/miniconda/base/envs/cs6303/lib/python3.11/threading.py:327\u001b[0m, in \u001b[0;36mCondition.wait\u001b[0;34m(self, timeout)\u001b[0m\n\u001b[1;32m    325\u001b[0m \u001b[38;5;28;01mtry\u001b[39;00m:    \u001b[38;5;66;03m# restore state no matter what (e.g., KeyboardInterrupt)\u001b[39;00m\n\u001b[1;32m    326\u001b[0m     \u001b[38;5;28;01mif\u001b[39;00m timeout \u001b[38;5;129;01mis\u001b[39;00m \u001b[38;5;28;01mNone\u001b[39;00m:\n\u001b[0;32m--> 327\u001b[0m         \u001b[43mwaiter\u001b[49m\u001b[38;5;241;43m.\u001b[39;49m\u001b[43macquire\u001b[49m\u001b[43m(\u001b[49m\u001b[43m)\u001b[49m\n\u001b[1;32m    328\u001b[0m         gotit \u001b[38;5;241m=\u001b[39m \u001b[38;5;28;01mTrue\u001b[39;00m\n\u001b[1;32m    329\u001b[0m     \u001b[38;5;28;01melse\u001b[39;00m:\n",
      "\u001b[0;31mKeyboardInterrupt\u001b[0m: "
     ]
    }
   ],
   "source": [
    "# Conversation 1: Order Status and Details\n",
    "order_status_details = [\n",
    "    \"Hi, my name is Umar Siddiqui and my CustomerID is 7. Can you check the status of my latest order?\",\n",
    "    \"How much did I spend on my last order?\",\n",
    "    \"What items did I order last time?\",\n",
    "    \"Who is delivering my order, and how can I contact them?\",\n",
    "    \"Are there any pending payments on my order?\",\n",
    "    \"What’s the expected delivery time for my current order?\",\n",
    "    \"Can I add special instructions to my ongoing order?\",\n",
    "    \"Is there a way to add or change items in my order now?\"\n",
    "]\n",
    "\n",
    "config = {\"configurable\": {\"thread_id\": \"2\"}}\n",
    "sql_agent.update_state(config=config, values={\"messages\": system_message_sql_agent})\n",
    "for user_input in order_status_details:\n",
    "    stream_graph_updates(sql_agent, user_input, config=config)"
   ]
  },
  {
   "cell_type": "code",
   "execution_count": null,
   "metadata": {},
   "outputs": [],
   "source": [
    "\n",
    "# Conversation 2: Account and Loyalty Points\n",
    "account_loyalty_points = [\n",
    "    \"How many loyalty points do I have?\",\n",
    "    \"Can you tell me when I last earned loyalty points?\",\n",
    "    \"What’s my current address on file?\",\n",
    "    \"How can I update my payment information?\",\n",
    "    \"Can I redeem loyalty points on my next order?\",\n",
    "    \"What’s my account’s email address?\",\n",
    "    \"How do I reset my password?\",\n",
    "    \"How often can I earn loyalty points?\"\n",
    "]\n",
    "\n",
    "# Conversation 3: Payment and Billing Queries\n",
    "payment_billing_queries = [\n",
    "    \"What payment method did I use for my last order?\",\n",
    "    \"Are there any pending payments I need to clear?\",\n",
    "    \"Can I change my payment method for an ongoing order?\",\n",
    "    \"How do I view all my past transactions?\",\n",
    "    \"Did I pay using Visa or JazzCash last time?\",\n",
    "    \"Can I add a new credit card to my account?\",\n",
    "    \"Why did my last payment fail?\",\n",
    "    \"How can I get a receipt for my last purchase?\"\n",
    "]\n",
    "\n",
    "# Conversation 4: Restaurant Information and Availability\n",
    "restaurant_info_availability = [\n",
    "    \"What are the operating hours of Lahore Tikka House?\",\n",
    "    \"Is there a restaurant that serves Afghani cuisine nearby?\",\n",
    "    \"Which restaurants have the best rating?\",\n",
    "    \"Are there any dessert options at Quetta Sajji House?\",\n",
    "    \"Can you list all the restaurants available in Karachi?\",\n",
    "    \"What type of food does Islamabad Café serve?\",\n",
    "    \"Is there a place with high ratings that’s open late tonight?\",\n",
    "    \"How far is Hyderabad Biryani Corner from my location?\"\n",
    "]\n",
    "\n",
    "# Conversation 5: Food and Menu Queries\n",
    "food_menu_queries = [\n",
    "    \"What’s on the menu at Karachi Broast?\",\n",
    "    \"How much does a Beef Biryani cost at Hyderabad Biryani Corner?\",\n",
    "    \"Can you suggest something spicy from Lahore Tikka House?\",\n",
    "    \"Do any restaurants offer vegetarian options?\",\n",
    "    \"What are the most popular items at Peshawar Chapli Kebab?\",\n",
    "    \"Can I get a dessert recommendation from Islamabad Café?\",\n",
    "    \"How many items does the Quetta Sajji House menu have?\",\n",
    "    \"Are there any appetizers in the Pakistani cuisine options?\"\n",
    "]\n",
    "\n",
    "# Conversation 6: Delivery Information\n",
    "delivery_information = [\n",
    "    \"Who’s delivering my order right now?\",\n",
    "    \"When should I expect my delivery?\",\n",
    "    \"Can you provide contact details for the delivery person?\",\n",
    "    \"Where is my delivery currently?\",\n",
    "    \"What address is my order being delivered to?\",\n",
    "    \"Is there a way to track the delivery in real-time?\",\n",
    "    \"Has the delivery personnel started the delivery yet?\",\n",
    "    \"Can I change the delivery address after placing the order?\"\n",
    "]"
   ]
  },
  {
   "cell_type": "markdown",
   "metadata": {},
   "source": [
    "# Multi-Agent"
   ]
  },
  {
   "cell_type": "code",
   "execution_count": 65,
   "metadata": {},
   "outputs": [],
   "source": [
    "from typing import Literal\n",
    "from typing_extensions import TypedDict\n",
    "from langgraph.checkpoint.memory import MemorySaver\n",
    "\n",
    "memory = MemorySaver()\n",
    "\n",
    "\n",
    "class RouterState(TypedDict):\n",
    "    messages: Annotated[list, add_messages]\n",
    "    route: Literal[\"database\", \"other\", \"tool_call\"]\n",
    "\n",
    "\n",
    "class Router(TypedDict):\n",
    "    route: Literal[\"database\", \"other\", \"tool_call\"]\n",
    "\n",
    "\n",
    "router_tools = [tools[\"sql_db_list_tables\"], tools[\"sql_db_schema\"]]\n",
    "router_llm = llm.bind_tools(router_tools).with_structured_output(Router)\n",
    "\n",
    "\n",
    "def router_node(state: RouterState):\n",
    "    system_message = \"You will act as an expert routing agent where your job is to carefully analyze the user question and route it to one of the specialized agents in the team. You have access to tools for interacting with the database that you can execute to get more context about the connected SQL database. To start, you should ALWAYS look at the tables in the database to see what data is available in the database. Do NOT skip this step. Then you should query the schema of the most relevant tables if you need more context. After processing all this context, you should decide whether the user question can be answered by the SQL agent or not.\"\n",
    "    messages = [{\"role\": \"system\", \"content\": system_message}] + state[\"messages\"]\n",
    "    route = router_llm.invoke(messages)\n",
    "    return {\"route\": route[\"route\"]}\n",
    "\n",
    "\n",
    "def normal_llm_node(state: RouterState):\n",
    "    system_message = \"You are a helpful AI assistant. Answer the user questions.\"\n",
    "    messages = [{\"role\": \"system\", \"content\": system_message}] + state[\"messages\"]\n",
    "    response = llm.invoke(messages)\n",
    "    return {\"messages\": [response]}\n",
    "\n",
    "\n",
    "def route_after_prediction(state: RouterState,) -> Literal[\"sql_agent_node\", \"normal_llm_node\", \"tools\"]:\n",
    "    if state[\"route\"] == \"database\":\n",
    "        return \"sql_agent_node\"\n",
    "    elif state[\"route\"] == \"tool_call\":\n",
    "        return \"tools\"\n",
    "    else:\n",
    "        return \"normal_llm_node\"\n",
    "\n",
    "graph = StateGraph(RouterState)\n",
    "graph.add_node(router_node)\n",
    "graph.add_node(normal_llm_node)\n",
    "graph.add_node(\"sql_agent_node\", sql_agent)\n",
    "graph.add_node(\"tools\", ToolNode(router_tools))\n",
    "\n",
    "graph.add_edge(START, \"router_node\")\n",
    "graph.add_conditional_edges(\"router_node\", route_after_prediction)\n",
    "graph.add_edge(\"tools\", \"router_node\")\n",
    "graph.add_edge(\"normal_llm_node\", END)\n",
    "graph.add_edge(\"sql_agent_node\", END)\n",
    "\n",
    "graph = graph.compile(checkpointer=memory)"
   ]
  },
  {
   "cell_type": "code",
   "execution_count": 73,
   "metadata": {},
   "outputs": [
    {
     "data": {
      "image/png": "[encoded data removed]",
      "text/plain": [
       "<IPython.core.display.Image object>"
      ]
     },
     "metadata": {},
     "output_type": "display_data"
    }
   ],
   "source": [
    "display(Image(graph.get_graph(xray=1).draw_mermaid_png()))"
   ]
  },
  {
   "cell_type": "code",
   "execution_count": 67,
   "metadata": {},
   "outputs": [
    {
     "name": "stdout",
     "output_type": "stream",
     "text": [
      "{'router_node': {'route': 'other'}}\n",
      "{'normal_llm_node': {'messages': [AIMessage(content='Sure! Why did the scarecrow win an award? \\n\\nBecause he was outstanding in his field!', additional_kwargs={'refusal': None}, response_metadata={'token_usage': {'completion_tokens': 20, 'prompt_tokens': 30, 'total_tokens': 50, 'completion_tokens_details': {'audio_tokens': 0, 'reasoning_tokens': 0, 'accepted_prediction_tokens': 0, 'rejected_prediction_tokens': 0}, 'prompt_tokens_details': {'audio_tokens': 0, 'cached_tokens': 0}}, 'model_name': 'gpt-4o-mini-2024-07-18', 'system_fingerprint': 'fp_bba3c8e70b', 'finish_reason': 'stop', 'logprobs': None}, id='run-55f71d38-2131-4eef-bd3a-f88e5e17d744-0', usage_metadata={'input_tokens': 30, 'output_tokens': 20, 'total_tokens': 50, 'input_token_details': {'audio': 0, 'cache_read': 0}, 'output_token_details': {'audio': 0, 'reasoning': 0}})]}}\n",
      "{'router_node': {'route': 'database'}}\n",
      "{'sql_agent_node': {'messages': [HumanMessage(content='Hello! Tell me a joke.', additional_kwargs={}, response_metadata={}, id='0a4f1be0-cc1f-423c-9950-d294470410aa'), AIMessage(content='Sure! Why did the scarecrow win an award? \\n\\nBecause he was outstanding in his field!', additional_kwargs={'refusal': None}, response_metadata={'token_usage': {'completion_tokens': 20, 'prompt_tokens': 30, 'total_tokens': 50, 'completion_tokens_details': {'audio_tokens': 0, 'reasoning_tokens': 0, 'accepted_prediction_tokens': 0, 'rejected_prediction_tokens': 0}, 'prompt_tokens_details': {'audio_tokens': 0, 'cached_tokens': 0}}, 'model_name': 'gpt-4o-mini-2024-07-18', 'system_fingerprint': 'fp_bba3c8e70b', 'finish_reason': 'stop', 'logprobs': None}, id='run-55f71d38-2131-4eef-bd3a-f88e5e17d744-0', usage_metadata={'input_tokens': 30, 'output_tokens': 20, 'total_tokens': 50, 'input_token_details': {'audio': 0, 'cache_read': 0}, 'output_token_details': {'audio': 0, 'reasoning': 0}}), HumanMessage(content='what is the status of order number 3?', additional_kwargs={}, response_metadata={}, id='22cc85dc-aa5b-468e-85e5-7af3026af8cd'), AIMessage(content='', additional_kwargs={'tool_calls': [{'id': 'call_vIsNyqVQjgvfmCb1NuoS2WX2', 'function': {'arguments': '{}', 'name': 'sql_db_list_tables'}, 'type': 'function'}], 'refusal': None}, response_metadata={'token_usage': {'completion_tokens': 12, 'prompt_tokens': 363, 'total_tokens': 375, 'completion_tokens_details': {'audio_tokens': 0, 'reasoning_tokens': 0, 'accepted_prediction_tokens': 0, 'rejected_prediction_tokens': 0}, 'prompt_tokens_details': {'audio_tokens': 0, 'cached_tokens': 0}}, 'model_name': 'gpt-4o-mini-2024-07-18', 'system_fingerprint': 'fp_bba3c8e70b', 'finish_reason': 'tool_calls', 'logprobs': None}, id='run-db4ec0c6-b1a1-4f92-b4b4-39a946b27964-0', tool_calls=[{'name': 'sql_db_list_tables', 'args': {}, 'id': 'call_vIsNyqVQjgvfmCb1NuoS2WX2', 'type': 'tool_call'}], usage_metadata={'input_tokens': 363, 'output_tokens': 12, 'total_tokens': 375, 'input_token_details': {'audio': 0, 'cache_read': 0}, 'output_token_details': {'audio': 0, 'reasoning': 0}}), ToolMessage(content='customers, deliverypersonnel, feedbackcomplaints, fooditems, orderitems, orders, payments, restaurants', name='sql_db_list_tables', id='797f9908-a7c8-4498-ae25-7e491743a651', tool_call_id='call_vIsNyqVQjgvfmCb1NuoS2WX2'), AIMessage(content='', additional_kwargs={'tool_calls': [{'id': 'call_HPkukchrNDp7eTWBMZq5a4yA', 'function': {'arguments': '{\"query\":\"SELECT * FROM orders WHERE order_id = 3;\"}', 'name': 'sql_db_query'}, 'type': 'function'}], 'refusal': None}, response_metadata={'token_usage': {'completion_tokens': 25, 'prompt_tokens': 406, 'total_tokens': 431, 'completion_tokens_details': {'audio_tokens': 0, 'reasoning_tokens': 0, 'accepted_prediction_tokens': 0, 'rejected_prediction_tokens': 0}, 'prompt_tokens_details': {'audio_tokens': 0, 'cached_tokens': 0}}, 'model_name': 'gpt-4o-mini-2024-07-18', 'system_fingerprint': 'fp_bba3c8e70b', 'finish_reason': 'tool_calls', 'logprobs': None}, id='run-d7ef7af9-6a8f-4dee-8c85-45c6b6eba14b-0', tool_calls=[{'name': 'sql_db_query', 'args': {'query': 'SELECT * FROM orders WHERE order_id = 3;'}, 'id': 'call_HPkukchrNDp7eTWBMZq5a4yA', 'type': 'tool_call'}], usage_metadata={'input_tokens': 406, 'output_tokens': 25, 'total_tokens': 431, 'input_token_details': {'audio': 0, 'cache_read': 0}, 'output_token_details': {'audio': 0, 'reasoning': 0}}), ToolMessage(content='Error: (psycopg2.OperationalError) SSL connection has been closed unexpectedly\\n\\n[SQL: SELECT * FROM orders WHERE order_id = 3;]\\n(Background on this error at: https://sqlalche.me/e/20/e3q8)', name='sql_db_query', id='5f01fff5-b775-4d20-a566-a7dfb5af3898', tool_call_id='call_HPkukchrNDp7eTWBMZq5a4yA'), AIMessage(content='It seems there was an issue connecting to the database to check the status of order number 3. Please try again later or check with your system administrator for assistance.', additional_kwargs={'refusal': None}, response_metadata={'token_usage': {'completion_tokens': 34, 'prompt_tokens': 495, 'total_tokens': 529, 'completion_tokens_details': {'audio_tokens': 0, 'reasoning_tokens': 0, 'accepted_prediction_tokens': 0, 'rejected_prediction_tokens': 0}, 'prompt_tokens_details': {'audio_tokens': 0, 'cached_tokens': 0}}, 'model_name': 'gpt-4o-mini-2024-07-18', 'system_fingerprint': 'fp_bba3c8e70b', 'finish_reason': 'stop', 'logprobs': None}, id='run-18d794f2-d6fe-4f4f-9240-5b318bb93e50-0', usage_metadata={'input_tokens': 495, 'output_tokens': 34, 'total_tokens': 529, 'input_token_details': {'audio': 0, 'cache_read': 0}, 'output_token_details': {'audio': 0, 'reasoning': 0}})]}}\n"
     ]
    }
   ],
   "source": [
    "config = {\"configurable\": {\"thread_id\": \"11\"}}\n",
    "\n",
    "inputs = {\"messages\": [{\"role\": \"user\", \"content\": \"Hello! Tell me a joke.\"}]}\n",
    "for update in graph.stream(inputs, config=config, stream_mode=\"updates\"):\n",
    "    print(update)\n",
    "\n",
    "inputs = {\"messages\": [{\"role\": \"user\", \"content\": \"what is the status of order number 3?\"}]}\n",
    "for update in graph.stream(inputs, config=config, stream_mode=\"updates\"):\n",
    "    print(update)\n",
    "\n",
    "# inputs = {\"messages\": [{\"role\": \"user\", \"content\": \"What do you know about FoodPanda?\"}]}\n",
    "# for update in graph.stream(inputs, config=config, stream_mode=\"updates\"):\n",
    "#     print(update)"
   ]
  },
  {
   "cell_type": "code",
   "execution_count": 72,
   "metadata": {},
   "outputs": [
    {
     "data": {
      "text/plain": [
       "{'messages': [HumanMessage(content='Hello! Tell me a joke.', additional_kwargs={}, response_metadata={}, id='0a4f1be0-cc1f-423c-9950-d294470410aa'),\n",
       "  AIMessage(content='Sure! Why did the scarecrow win an award? \\n\\nBecause he was outstanding in his field!', additional_kwargs={'refusal': None}, response_metadata={'token_usage': {'completion_tokens': 20, 'prompt_tokens': 30, 'total_tokens': 50, 'completion_tokens_details': {'audio_tokens': 0, 'reasoning_tokens': 0, 'accepted_prediction_tokens': 0, 'rejected_prediction_tokens': 0}, 'prompt_tokens_details': {'audio_tokens': 0, 'cached_tokens': 0}}, 'model_name': 'gpt-4o-mini-2024-07-18', 'system_fingerprint': 'fp_bba3c8e70b', 'finish_reason': 'stop', 'logprobs': None}, id='run-55f71d38-2131-4eef-bd3a-f88e5e17d744-0', usage_metadata={'input_tokens': 30, 'output_tokens': 20, 'total_tokens': 50, 'input_token_details': {'audio': 0, 'cache_read': 0}, 'output_token_details': {'audio': 0, 'reasoning': 0}}),\n",
       "  HumanMessage(content='what is the status of order number 3?', additional_kwargs={}, response_metadata={}, id='22cc85dc-aa5b-468e-85e5-7af3026af8cd'),\n",
       "  AIMessage(content='', additional_kwargs={'tool_calls': [{'id': 'call_vIsNyqVQjgvfmCb1NuoS2WX2', 'function': {'arguments': '{}', 'name': 'sql_db_list_tables'}, 'type': 'function'}], 'refusal': None}, response_metadata={'token_usage': {'completion_tokens': 12, 'prompt_tokens': 363, 'total_tokens': 375, 'completion_tokens_details': {'audio_tokens': 0, 'reasoning_tokens': 0, 'accepted_prediction_tokens': 0, 'rejected_prediction_tokens': 0}, 'prompt_tokens_details': {'audio_tokens': 0, 'cached_tokens': 0}}, 'model_name': 'gpt-4o-mini-2024-07-18', 'system_fingerprint': 'fp_bba3c8e70b', 'finish_reason': 'tool_calls', 'logprobs': None}, id='run-db4ec0c6-b1a1-4f92-b4b4-39a946b27964-0', tool_calls=[{'name': 'sql_db_list_tables', 'args': {}, 'id': 'call_vIsNyqVQjgvfmCb1NuoS2WX2', 'type': 'tool_call'}], usage_metadata={'input_tokens': 363, 'output_tokens': 12, 'total_tokens': 375, 'input_token_details': {'audio': 0, 'cache_read': 0}, 'output_token_details': {'audio': 0, 'reasoning': 0}}),\n",
       "  ToolMessage(content='customers, deliverypersonnel, feedbackcomplaints, fooditems, orderitems, orders, payments, restaurants', name='sql_db_list_tables', id='797f9908-a7c8-4498-ae25-7e491743a651', tool_call_id='call_vIsNyqVQjgvfmCb1NuoS2WX2'),\n",
       "  AIMessage(content='', additional_kwargs={'tool_calls': [{'id': 'call_HPkukchrNDp7eTWBMZq5a4yA', 'function': {'arguments': '{\"query\":\"SELECT * FROM orders WHERE order_id = 3;\"}', 'name': 'sql_db_query'}, 'type': 'function'}], 'refusal': None}, response_metadata={'token_usage': {'completion_tokens': 25, 'prompt_tokens': 406, 'total_tokens': 431, 'completion_tokens_details': {'audio_tokens': 0, 'reasoning_tokens': 0, 'accepted_prediction_tokens': 0, 'rejected_prediction_tokens': 0}, 'prompt_tokens_details': {'audio_tokens': 0, 'cached_tokens': 0}}, 'model_name': 'gpt-4o-mini-2024-07-18', 'system_fingerprint': 'fp_bba3c8e70b', 'finish_reason': 'tool_calls', 'logprobs': None}, id='run-d7ef7af9-6a8f-4dee-8c85-45c6b6eba14b-0', tool_calls=[{'name': 'sql_db_query', 'args': {'query': 'SELECT * FROM orders WHERE order_id = 3;'}, 'id': 'call_HPkukchrNDp7eTWBMZq5a4yA', 'type': 'tool_call'}], usage_metadata={'input_tokens': 406, 'output_tokens': 25, 'total_tokens': 431, 'input_token_details': {'audio': 0, 'cache_read': 0}, 'output_token_details': {'audio': 0, 'reasoning': 0}}),\n",
       "  ToolMessage(content='Error: (psycopg2.OperationalError) SSL connection has been closed unexpectedly\\n\\n[SQL: SELECT * FROM orders WHERE order_id = 3;]\\n(Background on this error at: https://sqlalche.me/e/20/e3q8)', name='sql_db_query', id='5f01fff5-b775-4d20-a566-a7dfb5af3898', tool_call_id='call_HPkukchrNDp7eTWBMZq5a4yA'),\n",
       "  AIMessage(content='It seems there was an issue connecting to the database to check the status of order number 3. Please try again later or check with your system administrator for assistance.', additional_kwargs={'refusal': None}, response_metadata={'token_usage': {'completion_tokens': 34, 'prompt_tokens': 495, 'total_tokens': 529, 'completion_tokens_details': {'audio_tokens': 0, 'reasoning_tokens': 0, 'accepted_prediction_tokens': 0, 'rejected_prediction_tokens': 0}, 'prompt_tokens_details': {'audio_tokens': 0, 'cached_tokens': 0}}, 'model_name': 'gpt-4o-mini-2024-07-18', 'system_fingerprint': 'fp_bba3c8e70b', 'finish_reason': 'stop', 'logprobs': None}, id='run-18d794f2-d6fe-4f4f-9240-5b318bb93e50-0', usage_metadata={'input_tokens': 495, 'output_tokens': 34, 'total_tokens': 529, 'input_token_details': {'audio': 0, 'cache_read': 0}, 'output_token_details': {'audio': 0, 'reasoning': 0}})],\n",
       " 'route': 'database'}"
      ]
     },
     "execution_count": 72,
     "metadata": {},
     "output_type": "execute_result"
    }
   ],
   "source": [
    "graph.get_state(config=config).values"
   ]
  },
  {
   "cell_type": "markdown",
   "metadata": {},
   "source": [
    "# Multi Agentic workflow to the next level "
   ]
  },
  {
   "cell_type": "code",
   "execution_count": 1,
   "metadata": {},
   "outputs": [
    {
     "name": "stderr",
     "output_type": "stream",
     "text": [
      "/opt/homebrew/Caskroom/miniconda/base/envs/cs6303/lib/python3.11/site-packages/pinecone/data/index.py:1: TqdmWarning: IProgress not found. Please update jupyter and ipywidgets. See https://ipywidgets.readthedocs.io/en/stable/user_install.html\n",
      "  from tqdm.autonotebook import tqdm\n"
     ]
    }
   ],
   "source": [
    "import re\n",
    "import os\n",
    "from uuid import uuid4\n",
    "from dotenv import load_dotenv\n",
    "from pinecone import ServerlessSpec\n",
    "from langchain_pinecone import PineconeVectorStore\n",
    "from langchain.prompts import PromptTemplate\n",
    "from langchain.schema.runnable import RunnablePassthrough, RunnableLambda\n",
    "from langchain_community.document_loaders import PyMuPDFLoader\n",
    "from langchain_text_splitters import TokenTextSplitter\n",
    "from langchain_core.messages import HumanMessage, AIMessage, ToolMessage, SystemMessage\n",
    "from langchain_core.prompts import SystemMessagePromptTemplate\n",
    "from langchain_community.agent_toolkits import SQLDatabaseToolkit\n",
    "from langchain_community.utilities import SQLDatabase\n",
    "from langgraph.checkpoint.memory import MemorySaver\n",
    "from langchain_openai import ChatOpenAI\n",
    "from pinecone import Pinecone\n",
    "from langchain.memory import ConversationBufferMemory\n",
    "from langchain_huggingface import HuggingFaceEmbeddings\n",
    "from langchain_huggingface import HuggingFaceEndpoint\n",
    "from typing import Literal, Annotated, Optional, Callable\n",
    "from typing_extensions import TypedDict\n",
    "from langgraph.checkpoint.memory import MemorySaver\n",
    "from langgraph.checkpoint.memory import MemorySaver\n",
    "from langgraph.graph import StateGraph, START, END\n",
    "from langgraph.graph.message import add_messages\n",
    "from langgraph.prebuilt import ToolNode, tools_condition\n",
    "from langgraph.graph import START, END, StateGraph\n",
    "from langgraph.graph.state import CompiledStateGraph\n",
    "from langgraph.graph.message import AnyMessage, add_messages\n",
    "from langgraph.managed import IsLastStep\n",
    "from langgraph.prebuilt import ToolNode\n",
    "from pydantic import BaseModel, Field\n",
    "from langchain_core.tools.base import BaseTool\n",
    "from langchain_core.tools import convert_runnable_to_tool\n",
    "from IPython.display import Image, display\n",
    "\n",
    "load_dotenv(\"/Users/tariqmehmood/code/cs-6303/RAG-Enterprise-Chatbot/sql_agent/.env\", override=True)\n",
    "DATABASE_URI_RW=os.environ.get(\"DATABASE_URI_RW\")\n",
    "DATABASE_URI_RO=os.environ.get(\"DATABASE_URI_RO\")\n",
    "OPENAI_API_KEY=os.environ.get(\"OPENAI_API_KEY\")\n",
    "TAVILY_API_KEY=os.environ[\"TAVILY_API_KEY\"]\n",
    "\n",
    "llm = ChatOpenAI(model=\"gpt-4o-mini\", temperature=0.5)"
   ]
  },
  {
   "cell_type": "markdown",
   "metadata": {},
   "source": [
    "## Prompts"
   ]
  },
  {
   "cell_type": "code",
   "execution_count": 2,
   "metadata": {},
   "outputs": [],
   "source": [
    "coordinator_prompt = \"\"\"You are the Coordinator in a multi-agent chatbot system\n",
    "for Uber Eats. Your role is to analyze user queries and delegate tasks to the\n",
    "relevant specialized agents based on their capabilities:\n",
    "\n",
    "1.\tSQL Agent: Fetches data from the company's SQL database about Customers,\n",
    "Orders, Order Items, Restaurants, Delivery Personnel, Payments,\n",
    "Feedback/Complaints, and Food Items.\n",
    "\n",
    "2.\tRAG Agent: Processes pre-retrieved context containing company policies,\n",
    "rules, regulations, FAQs, and customer support-related documents to extract\n",
    "relevant information.\n",
    "\n",
    "3.\tGeneral Assistant: Synthesizes input from agents and delivers professional,\n",
    "user-friendly responses.\n",
    "\n",
    "Evaluate the user query to decide which agent(s) to involve, integrate their\n",
    "outputs, and forward the consolidated information to the General Assistant for\n",
    "final interaction. Ensure accuracy, efficiency, and appropriate task\n",
    "allocation.\"\"\"\n",
    "\n",
    "assistant_prompt = \"\"\"You are an expert customer support specialist in a\n",
    "multi-agent chatbot system for Uber Eats. Your role is to professionally respond\n",
    "to user queries by synthesizing input from other agents and delivering accurate,\n",
    "clear, and helpful responses. You are the only agent in the system that\n",
    "interacts directly with the user so carefully reflect on the previous messages\n",
    "to understand the context other agents have provided; no other agents can\n",
    "communicate with the user.  Maintain a friendly and professional tone at all\n",
    "times. When necessary, clarify the query with the Coordinator before responding.\n",
    "Ensure that responses are customer-focused and do not disclose internal system\n",
    "details or processes.\"\"\"\n",
    "\n",
    "rag_prompt_template = \"\"\"Answer the question based on the given context and question.\n",
    "\n",
    "Context: {context} Question: {question} Answer:\"\"\"\n",
    "\n",
    "rag_prompt = PromptTemplate(\n",
    "    template=rag_prompt_template,\n",
    "    input_variables=[\"context\", \"question\"],\n",
    ")\n",
    "\n",
    "# sql_prompt_template = \"\"\"You are the SQL Agent in a multi-agent chatbot\n",
    "# system for Uber Eats. Your role is to access and query the company's SQL\n",
    "# database. You have read-only access to details about Customers, Orders, Order\n",
    "# Items, Restaurants, Delivery Personnel, Payments, Feedback/Complaints, and Food\n",
    "# Items. Respond strictly with the requested data or confirm if data is\n",
    "# unavailable. Avoid providing interpretations or suggestions.   Never query for\n",
    "# all the columns from a specific table, only ask for the relevant columns given\n",
    "# the question. If you get an error while executing a query, rewrite the query and\n",
    "# try again.  If you get an InsufficientPrivilege error, respond with the\n",
    "# following message:\n",
    "\n",
    "# “I'm unable to perform this operation directly. Please contact our support team\n",
    "# at 23030009@lums.edu.pk, and they'll assist you with this.” \"\"\"\n",
    "\n",
    "sql_prompt_template = SystemMessagePromptTemplate.from_template(\n",
    "\"\"\"You are an agent designed to interact with a SQL database.  Given an input\n",
    "question, create a syntactically correct {dialect} query to run, then look at\n",
    "the results of the query and return the answer.  Always limit your query to at\n",
    "most {top_k} results.  You can order the results by a relevant column to return\n",
    "the most interesting examples in the database.  Never query for all the columns\n",
    "from a specific table, only ask for the relevant columns given the question.\n",
    "You have access to tools for interacting with the database.  NOTE: THE USER\n",
    "CAN'T SEE THE TOOL RESPONSE.  Only use the below tools. Only use the information\n",
    "returned by the below tools to construct your final answer.  You MUST double\n",
    "check your query before executing it. If you get an error while executing a\n",
    "query, rewrite the query and try again.\n",
    "\n",
    "DO NOT make any DML statements (INSERT, UPDATE, DELETE, DROP etc.) to the\n",
    "database.\n",
    "\n",
    "To start you should ALWAYS look at the tables in the database to see what you\n",
    "can query.  Do NOT skip this step. Then you should query the schema of the most\n",
    "relevant tables.\"\"\"\n",
    ")\n",
    "sql_prompt = sql_prompt_template.format(\n",
    "    dialect=\"PostgreSQL\", top_k=5\n",
    ")\n",
    "\n",
    "class State(TypedDict):\n",
    "    messages: Annotated[list[AnyMessage], add_messages]\n",
    "    is_last_step: IsLastStep\n",
    "    pending_tool_calls: list[BaseTool]\n",
    "    agent_responses: list[str]"
   ]
  },
  {
   "cell_type": "markdown",
   "metadata": {},
   "source": [
    "## Customer RAG Agent"
   ]
  },
  {
   "cell_type": "code",
   "execution_count": 3,
   "metadata": {},
   "outputs": [],
   "source": [
    "class DocumentLoader:\n",
    "    def __init__(self, chunk_size=256, chunk_overlap=0.50):\n",
    "        self.chunk_size = chunk_size\n",
    "        self.chunk_overlap = chunk_overlap\n",
    "\n",
    "    def _load_and_split(self, docs_to_load):\n",
    "        combined_text = \"\"\n",
    "        for doc in docs_to_load:\n",
    "            loader = PyMuPDFLoader(doc)\n",
    "            documents = loader.load()\n",
    "            for page in documents:\n",
    "                text = page.page_content\n",
    "                if \"contents\" in text.lower():\n",
    "                    continue\n",
    "                text = re.sub(r\"\\bPage\\s+\\d+\\b\", \"\", text, flags=re.IGNORECASE)\n",
    "                text = re.sub(r\"\\n\", \"\", text).strip()\n",
    "                text = re.sub(r\"[^\\w\\s.,?!:;\\'\\\"()&-]\", \"\", text)\n",
    "                combined_text += text + \" \"\n",
    "        combined_text = combined_text.strip()\n",
    "\n",
    "        text_splitter = TokenTextSplitter(\n",
    "            chunk_size=self.chunk_size,\n",
    "            chunk_overlap=int(self.chunk_size * self.chunk_overlap),\n",
    "        )\n",
    "        texts = text_splitter.split_text(combined_text)\n",
    "        return text_splitter.create_documents(texts)\n",
    "\n",
    "\n",
    "class VectorStore:\n",
    "    def __init__(self, pinecone_client, index_name, embedding_model):\n",
    "        self.pc = pinecone_client\n",
    "        self.index_name = index_name\n",
    "        self.embeddings = embedding_model\n",
    "\n",
    "        if self.index_name not in self.pc.list_indexes().names():\n",
    "            self.pc.create_index(\n",
    "                name=self.index_name,\n",
    "                dimension=768,\n",
    "                metric=\"cosine\",\n",
    "                spec=ServerlessSpec(cloud=\"aws\", region=\"us-east-1\"),\n",
    "            )\n",
    "\n",
    "        self.index = self.pc.Index(self.index_name)\n",
    "        self.vector_store = PineconeVectorStore(\n",
    "            index=self.index, embedding=self.embeddings\n",
    "        )\n",
    "\n",
    "    def _build(self, documents):\n",
    "        uuids = [str(uuid4()) for _ in range(len(documents))]\n",
    "        self.vector_store.add_documents(documents=documents, ids=uuids)\n",
    "\n",
    "    def _as_retriever(\n",
    "        self, search_type=\"similarity_score_threshold\", search_kwargs=None\n",
    "    ):\n",
    "        return self.vector_store.as_retriever(\n",
    "            search_type=search_type,\n",
    "            search_kwargs=search_kwargs or {\"k\": 3, \"score_threshold\": 0.5},\n",
    "        )\n",
    "\n",
    "\n",
    "class CustomerRagAgent:\n",
    "    def __init__(self, document_loader, vector_store, llm):\n",
    "        self.document_loader = document_loader\n",
    "        self.vector_store = vector_store\n",
    "        self.retriever = self.vector_store._as_retriever()\n",
    "        self.llm = llm\n",
    "        self.rag_chain = (\n",
    "            {\n",
    "                \"context\": self.retriever | self._format_docs,\n",
    "                \"question\": RunnablePassthrough(),\n",
    "            }\n",
    "            | rag_prompt\n",
    "            | self.llm\n",
    "        )\n",
    "\n",
    "    def _format_docs(self, docs):\n",
    "        return \"\\n\\n\".join([d.page_content for d in docs])\n",
    "\n",
    "    def load_and_add_documents(self, docs_to_load):\n",
    "        documents = self.document_loader._load_and_split(docs_to_load)\n",
    "        self.vector_store._build(documents)\n",
    "\n",
    "    def generate(self, query):\n",
    "        query_response = self.rag_chain.invoke(query)\n",
    "        return query_response\n",
    "\n",
    "\n",
    "# Initialize document loader\n",
    "doc_loader = DocumentLoader()\n",
    "\n",
    "# Initialize vector store\n",
    "pinecone_client = Pinecone(api_key=os.getenv(\"PINECONE_API_KEY\"))\n",
    "vector_store = VectorStore(\n",
    "    pinecone_client=pinecone_client,\n",
    "    index_name=\"customer-queries-db\",\n",
    "    embedding_model=HuggingFaceEmbeddings(),\n",
    ")\n",
    "\n",
    "# Create orchestrator\n",
    "rag_pipeline = CustomerRagAgent(\n",
    "    document_loader=doc_loader,\n",
    "    vector_store=vector_store,\n",
    "    llm=llm,\n",
    ")\n",
    "\n",
    "def customer_rag_node(state: State):\n",
    "    query=state[\"messages\"][-2].tool_calls[0][\"args\"][\"query\"]\n",
    "    return {\"messages\": [rag_pipeline.generate(query)]}\n"
   ]
  },
  {
   "cell_type": "markdown",
   "metadata": {},
   "source": [
    "## SQL Agent"
   ]
  },
  {
   "cell_type": "code",
   "execution_count": 4,
   "metadata": {},
   "outputs": [],
   "source": [
    "db = SQLDatabase.from_uri(DATABASE_URI_RO, engine_args={\"pool_pre_ping\": True})\n",
    "toolkit = SQLDatabaseToolkit(db=db, llm=llm)\n",
    "tools = toolkit.get_tools()\n",
    "tools = {tool.name:tool for tool in tools}\n",
    "\n",
    "llm_with_tools = llm.bind_tools(list(tools.values()))\n",
    "\n",
    "def sql_agent_node(state: State):\n",
    "    messages = [sql_prompt] + state[\"messages\"]\n",
    "    response = llm_with_tools.invoke(messages)\n",
    "    return {\"messages\": [response]}\n"
   ]
  },
  {
   "cell_type": "markdown",
   "metadata": {},
   "source": [
    "## Assistant"
   ]
  },
  {
   "cell_type": "code",
   "execution_count": 5,
   "metadata": {},
   "outputs": [],
   "source": [
    "def general_assistant_node(state: State):\n",
    "    messages = [{\"role\": \"system\", \"content\": assistant_prompt}] + state[\"messages\"]\n",
    "    response = llm.invoke(messages)\n",
    "    return {\"messages\": [response], \"pending_tool_calls\": [], \"agent_responses\": []} # flush the tool calls and agent responses\n"
   ]
  },
  {
   "cell_type": "markdown",
   "metadata": {},
   "source": [
    "## Coordinator"
   ]
  },
  {
   "cell_type": "code",
   "execution_count": 6,
   "metadata": {},
   "outputs": [],
   "source": [
    "class ToSqlAgent(BaseModel):\n",
    "    \"\"\"A tool to route the current dialog to the SQL agent.\"\"\"\n",
    "    query: str = Field(description=\"The user question to be passed to the SQL agent.\")\n",
    "    class Config:\n",
    "        json_schema_extra = {\n",
    "            \"example\": {\n",
    "                \"query\": \"What is the status of order number 3?\",\n",
    "            },\n",
    "        }\n",
    "\n",
    "class ToRagAgent(BaseModel):\n",
    "    \"\"\"A tool to route the current dialog to the RAG agent.\"\"\"\n",
    "    query: str = Field(description=\"The query to be passed to the RAG agent for document-based information retrieval.\")\n",
    "    class Config:\n",
    "        json_schema_extra = {\n",
    "            \"example\": {\n",
    "                \"query\": \"What is the refund policy for Uber Eats?\",\n",
    "            },\n",
    "        }\n",
    "\n",
    "class ToAssistant(BaseModel):\n",
    "    \"\"\"A tool to route the current dialog to the general assistant.\"\"\"\n",
    "    input: str = Field(description=\"Consolidated input from SQL and RAG agents.\")\n",
    "    class Config:\n",
    "        json_schema_extra = {\n",
    "            \"example\": {\n",
    "                \"input\": \"The status of your order is out for delivery.\",\n",
    "            },\n",
    "        }\n",
    "\n",
    "router_llm = llm.bind_tools([ToSqlAgent, ToRagAgent, ToAssistant])\n",
    "\n",
    "\n",
    "def coordinator_node(state: State):\n",
    "    # if isinstance(state['messages'][-1], HumanMessage):\n",
    "    if isinstance(state['messages'][-1], AIMessage):\n",
    "        pending_tool_calls = state[\"pending_tool_calls\"]\n",
    "        agent_responses = state[\"agent_responses\"]\n",
    "        agent_responses.append(state['messages'][-1].content)\n",
    "        if pending_tool_calls:\n",
    "            tool_call = pending_tool_calls.pop(0)\n",
    "            response = AIMessage(content=tool_call[\"args\"][\"query\"], tool_calls=[tool_call])\n",
    "            return {\"messages\": [response], \"pending_tool_calls\": pending_tool_calls, \"agent_responses\": agent_responses}\n",
    "\n",
    "    messages = [{\"role\": \"system\", \"content\": coordinator_prompt}] + state[\"messages\"]\n",
    "    response = router_llm.invoke(messages)\n",
    "    # coordinator will alway communicate via tool calling\n",
    "    tool_calls=response.tool_calls\n",
    "    if len(tool_calls) == 1:\n",
    "        return {\"messages\": [response]}\n",
    "    response.tool_calls=[tool_calls[0]]\n",
    "    return {\"messages\": [response], \"pending_tool_calls\": tool_calls[1:]}\n",
    "\n",
    "def route_coordinator(\n",
    "    state: State,\n",
    "):\n",
    "    tool_calls = state[\"messages\"][-1].tool_calls\n",
    "    if tool_calls:\n",
    "        if tool_calls[0][\"name\"] == ToSqlAgent.__name__:\n",
    "            return \"enter_sql_agent\"\n",
    "        elif tool_calls[0][\"name\"] == ToRagAgent.__name__:\n",
    "            return \"enter_rag_agent\"\n",
    "        elif tool_calls[0][\"name\"] == ToAssistant.__name__: \n",
    "            return \"enter_assistant\"\n",
    "    raise ValueError(\"Invalid route\")\n",
    "\n",
    "# def handle_parallel_tools(state: State):\n",
    "#     tool_call = state[\"messages\"][-1].tool_calls[0]\n",
    "#     current_content = state[\"messages\"][-1].content\n",
    "#     current_id = state[\"messages\"][-1].id\n",
    "#     new_message = AIMessage(content=current_content, tool_calls=[tool_call], id=current_id)\n",
    "#     return {\"messages\": [new_message]}"
   ]
  },
  {
   "cell_type": "markdown",
   "metadata": {},
   "source": [
    "## Graph"
   ]
  },
  {
   "cell_type": "code",
   "execution_count": 8,
   "metadata": {},
   "outputs": [
    {
     "data": {
      "image/png": "[encoded data removed]",
      "text/plain": [
       "<IPython.core.display.Image object>"
      ]
     },
     "metadata": {},
     "output_type": "display_data"
    }
   ],
   "source": [
    "def create_entry_node(assistant_name: str) -> Callable:\n",
    "    def entry_node(state: State) -> dict:\n",
    "        tool_call_id = state[\"messages\"][-1].tool_calls[0][\"id\"]\n",
    "        response= {\n",
    "            \"messages\": [\n",
    "                ToolMessage(\n",
    "                    content=f\"The assistant is now the {assistant_name}. Do not mention who you are - just act as the proxy for the assistant.\",\n",
    "                    tool_call_id=tool_call_id,\n",
    "                )\n",
    "            ]\n",
    "        }\n",
    "        return response\n",
    "    return entry_node\n",
    "\n",
    "def handle_tool_error(state) -> dict:\n",
    "    error = state.get(\"error\")\n",
    "    tool_calls = state[\"messages\"][-1].tool_calls\n",
    "    return {\n",
    "        \"messages\": [\n",
    "            ToolMessage(\n",
    "                content=f\"Error: {repr(error)}\\n please fix your mistakes.\",\n",
    "                tool_call_id=tc[\"id\"],\n",
    "            )\n",
    "            for tc in tool_calls\n",
    "        ]\n",
    "    }\n",
    "\n",
    "def create_tool_node_with_fallback(tools: list) -> dict:\n",
    "    return ToolNode(tools).with_fallbacks(\n",
    "        [RunnableLambda(handle_tool_error)], exception_key=\"error\"\n",
    "    )\n",
    "\n",
    "\n",
    "def pending_tool_calls(state: State) -> Literal[\"tools\", \"done\", \"exit\"]:\n",
    "    last_message = state[\"messages\"][-1]\n",
    "    if not isinstance(last_message, AIMessage):\n",
    "        raise TypeError(f\"Expected AIMessage, got {type(last_message)}\")\n",
    "    if last_message.tool_calls:\n",
    "        return \"tools\"\n",
    "    if state[\"pending_tool_calls\"] or state[\"agent_responses\"]:\n",
    "        return \"done\"\n",
    "    return \"exit\"\n",
    "\n",
    "graph = StateGraph(State)\n",
    "\n",
    "graph.add_node(\"coordinator\", coordinator_node)\n",
    "graph.add_node(\"assistant\", general_assistant_node)\n",
    "graph.add_node(\"sql_agent\", sql_agent_node)\n",
    "graph.add_node(\"rag_agent\", customer_rag_node)\n",
    "graph.add_node(\"tools\", create_tool_node_with_fallback(list(tools.values())))\n",
    "graph.add_node(\"enter_sql_agent\", create_entry_node(\"SQL Agent\"))\n",
    "graph.add_node(\"enter_rag_agent\", create_entry_node(\"Customer RAG Agent\"))\n",
    "graph.add_node(\"enter_assistant\", create_entry_node(\"General Assistant\"))\n",
    "# graph.add_node(\"parallel_tools\", handle_parallel_tools)\n",
    "\n",
    "graph.add_edge(START, \"coordinator\")\n",
    "graph.add_conditional_edges(\n",
    "    \"coordinator\",\n",
    "    route_coordinator,\n",
    "    [\n",
    "        \"enter_sql_agent\",\n",
    "        \"enter_rag_agent\",\n",
    "        \"enter_assistant\",\n",
    "        # \"parallel_tools\",\n",
    "        # \"coordinator\"\n",
    "    ],\n",
    ")\n",
    "# graph.add_edge(\"parallel_tools\", \"coordinator\")\n",
    "graph.add_edge(\"enter_sql_agent\", \"sql_agent\")\n",
    "graph.add_edge(\"enter_rag_agent\", \"rag_agent\")\n",
    "graph.add_edge(\"enter_assistant\", \"assistant\")\n",
    "graph.add_conditional_edges(\n",
    "    \"sql_agent\", pending_tool_calls, {\"tools\": \"tools\", \"done\": \"coordinator\", \"exit\": END}\n",
    ")\n",
    "graph.add_conditional_edges(\n",
    "    \"rag_agent\", pending_tool_calls, {\"done\": \"coordinator\", \"exit\": END}\n",
    ")\n",
    "graph.add_edge(\"tools\", \"sql_agent\")\n",
    "graph.add_edge(\"assistant\", END)\n",
    "\n",
    "memory = MemorySaver()\n",
    "graph = graph.compile(checkpointer=memory)#, interrupt_after=[\"parallel_tools\"])\n",
    "\n",
    "display(Image(graph.get_graph(xray=1).draw_mermaid_png()))"
   ]
  },
  {
   "cell_type": "code",
   "execution_count": 9,
   "metadata": {},
   "outputs": [
    {
     "name": "stdout",
     "output_type": "stream",
     "text": [
      "{'coordinator': {'messages': [AIMessage(content='', additional_kwargs={'tool_calls': [{'id': 'call_v0emFXelh0P3uPgWp1MI3IKi', 'function': {'arguments': '{\"query\": \"Who is delivering order number 5?\"}', 'name': 'ToSqlAgent'}, 'type': 'function'}, {'id': 'call_8EdeXwJW4RdAdyRKAvkmRP5H', 'function': {'arguments': '{\"query\": \"What is the policy to contact delivery personnel?\"}', 'name': 'ToRagAgent'}, 'type': 'function'}], 'refusal': None}, response_metadata={'token_usage': {'completion_tokens': 62, 'prompt_tokens': 335, 'total_tokens': 397, 'completion_tokens_details': {'audio_tokens': 0, 'reasoning_tokens': 0, 'accepted_prediction_tokens': 0, 'rejected_prediction_tokens': 0}, 'prompt_tokens_details': {'audio_tokens': 0, 'cached_tokens': 0}}, 'model_name': 'gpt-4o-mini-2024-07-18', 'system_fingerprint': 'fp_bba3c8e70b', 'finish_reason': 'tool_calls', 'logprobs': None}, id='run-2b4480cc-d3c9-446c-849b-8481a98668fe-0', tool_calls=[{'name': 'ToSqlAgent', 'args': {'query': 'Who is delivering order number 5?'}, 'id': 'call_v0emFXelh0P3uPgWp1MI3IKi', 'type': 'tool_call'}], usage_metadata={'input_tokens': 335, 'output_tokens': 62, 'total_tokens': 397, 'input_token_details': {'audio': 0, 'cache_read': 0}, 'output_token_details': {'audio': 0, 'reasoning': 0}})], 'pending_tool_calls': [{'name': 'ToRagAgent', 'args': {'query': 'What is the policy to contact delivery personnel?'}, 'id': 'call_8EdeXwJW4RdAdyRKAvkmRP5H', 'type': 'tool_call'}]}}\n",
      "{'enter_sql_agent': {'messages': [ToolMessage(content='The assistant is now the SQL Agent. Do not mention who you are - just act as the proxy for the assistant.', id='373dd1ff-56d8-4968-9d79-52980630ce15', tool_call_id='call_v0emFXelh0P3uPgWp1MI3IKi')]}}\n",
      "{'sql_agent': {'messages': [AIMessage(content='', additional_kwargs={'tool_calls': [{'id': 'call_fBQiRfOdsOokF3HliMCYipJB', 'function': {'arguments': '{}', 'name': 'sql_db_list_tables'}, 'type': 'function'}], 'refusal': None}, response_metadata={'token_usage': {'completion_tokens': 12, 'prompt_tokens': 633, 'total_tokens': 645, 'completion_tokens_details': {'audio_tokens': 0, 'reasoning_tokens': 0, 'accepted_prediction_tokens': 0, 'rejected_prediction_tokens': 0}, 'prompt_tokens_details': {'audio_tokens': 0, 'cached_tokens': 0}}, 'model_name': 'gpt-4o-mini-2024-07-18', 'system_fingerprint': 'fp_bba3c8e70b', 'finish_reason': 'tool_calls', 'logprobs': None}, id='run-8e5b9164-f33b-4f02-a744-9959eddebdd5-0', tool_calls=[{'name': 'sql_db_list_tables', 'args': {}, 'id': 'call_fBQiRfOdsOokF3HliMCYipJB', 'type': 'tool_call'}], usage_metadata={'input_tokens': 633, 'output_tokens': 12, 'total_tokens': 645, 'input_token_details': {'audio': 0, 'cache_read': 0}, 'output_token_details': {'audio': 0, 'reasoning': 0}})]}}\n",
      "{'tools': {'messages': [ToolMessage(content='customers, deliverypersonnel, feedbackcomplaints, fooditems, orderitems, orders, payments, restaurants', name='sql_db_list_tables', id='38798324-c61b-4866-bc04-59f531a04308', tool_call_id='call_fBQiRfOdsOokF3HliMCYipJB')]}}\n",
      "{'sql_agent': {'messages': [AIMessage(content='', additional_kwargs={'tool_calls': [{'id': 'call_uC85NRJ2VVEJXGt2VQYi5Gxj', 'function': {'arguments': '{\"table_names\": \"orders\"}', 'name': 'sql_db_schema'}, 'type': 'function'}, {'id': 'call_tmfruq0K6X9cuX5jBjgOmm8z', 'function': {'arguments': '{\"table_names\": \"deliverypersonnel\"}', 'name': 'sql_db_schema'}, 'type': 'function'}], 'refusal': None}, response_metadata={'token_usage': {'completion_tokens': 50, 'prompt_tokens': 676, 'total_tokens': 726, 'completion_tokens_details': {'audio_tokens': 0, 'reasoning_tokens': 0, 'accepted_prediction_tokens': 0, 'rejected_prediction_tokens': 0}, 'prompt_tokens_details': {'audio_tokens': 0, 'cached_tokens': 0}}, 'model_name': 'gpt-4o-mini-2024-07-18', 'system_fingerprint': 'fp_bba3c8e70b', 'finish_reason': 'tool_calls', 'logprobs': None}, id='run-cd171ce3-8d57-46e0-9008-fbb3b8737de8-0', tool_calls=[{'name': 'sql_db_schema', 'args': {'table_names': 'orders'}, 'id': 'call_uC85NRJ2VVEJXGt2VQYi5Gxj', 'type': 'tool_call'}, {'name': 'sql_db_schema', 'args': {'table_names': 'deliverypersonnel'}, 'id': 'call_tmfruq0K6X9cuX5jBjgOmm8z', 'type': 'tool_call'}], usage_metadata={'input_tokens': 676, 'output_tokens': 50, 'total_tokens': 726, 'input_token_details': {'audio': 0, 'cache_read': 0}, 'output_token_details': {'audio': 0, 'reasoning': 0}})]}}\n",
      "{'tools': {'messages': [ToolMessage(content='\\nCREATE TABLE orders (\\n\\torderid SERIAL NOT NULL, \\n\\tcustomerid INTEGER, \\n\\trestaurantid INTEGER, \\n\\torderstatus VARCHAR(50), \\n\\ttotalcost DOUBLE PRECISION, \\n\\tdeliveryaddress VARCHAR(255), \\n\\torderdate TIMESTAMP WITHOUT TIME ZONE DEFAULT CURRENT_TIMESTAMP, \\n\\tpaymentmethod VARCHAR(100), \\n\\tspecialinstructions TEXT, \\n\\tCONSTRAINT orders_pkey PRIMARY KEY (orderid), \\n\\tCONSTRAINT orders_customerid_fkey FOREIGN KEY(customerid) REFERENCES customers (customerid), \\n\\tCONSTRAINT orders_restaurantid_fkey FOREIGN KEY(restaurantid) REFERENCES restaurants (restaurantid)\\n)\\n\\n/*\\n3 rows from orders table:\\norderid\\tcustomerid\\trestaurantid\\torderstatus\\ttotalcost\\tdeliveryaddress\\torderdate\\tpaymentmethod\\tspecialinstructions\\n1\\t1\\t1\\tCompleted\\t1200.5\\tGulberg, Lahore\\t2024-10-20 12:06:28.371072\\tVisa\\tNo onions please\\n2\\t2\\t2\\tIn Progress\\t1500.75\\tDHA, Karachi\\t2024-10-20 12:06:28.371072\\tEasypaisa\\tExtra spicy\\n4\\t4\\t4\\tCompleted\\t2000.0\\tCantt, Peshawar\\t2024-10-20 12:06:28.371072\\tVisa\\tAdd extra sauce\\n*/', name='sql_db_schema', id='4f69aa1f-5656-43d8-845b-1beae48bb725', tool_call_id='call_uC85NRJ2VVEJXGt2VQYi5Gxj'), ToolMessage(content='\\nCREATE TABLE deliverypersonnel (\\n\\tdeliveryid SERIAL NOT NULL, \\n\\tassignedorderids INTEGER[], \\n\\tname VARCHAR(255), \\n\\tcontactinformation VARCHAR(255), \\n\\tcurrentlocation VARCHAR(255), \\n\\tCONSTRAINT deliverypersonnel_pkey PRIMARY KEY (deliveryid)\\n)\\n\\n/*\\n3 rows from deliverypersonnel table:\\ndeliveryid\\tassignedorderids\\tname\\tcontactinformation\\tcurrentlocation\\n1\\t[1, 4, 5]\\tAhmed Ali\\t0300-1234567\\tGulberg, Lahore\\n2\\t[2, 8, 6]\\tImran Khan\\t0320-1234567\\tDHA, Karachi\\n3\\t[3, 9, 7]\\tAsad Khan\\t0301-1234567\\tBlue Area, Islamabad\\n*/', name='sql_db_schema', id='6a95969b-280b-4c90-b0c5-99d6430878da', tool_call_id='call_tmfruq0K6X9cuX5jBjgOmm8z')]}}\n",
      "{'sql_agent': {'messages': [AIMessage(content='', additional_kwargs={'tool_calls': [{'id': 'call_wXVR7YRFrTUoCejuYK0McfCH', 'function': {'arguments': '{\"query\":\"SELECT name, contactinformation FROM deliverypersonnel WHERE 5 = ANY(assignedorderids);\"}', 'name': 'sql_db_query'}, 'type': 'function'}], 'refusal': None}, response_metadata={'token_usage': {'completion_tokens': 33, 'prompt_tokens': 1244, 'total_tokens': 1277, 'completion_tokens_details': {'audio_tokens': 0, 'reasoning_tokens': 0, 'accepted_prediction_tokens': 0, 'rejected_prediction_tokens': 0}, 'prompt_tokens_details': {'audio_tokens': 0, 'cached_tokens': 0}}, 'model_name': 'gpt-4o-mini-2024-07-18', 'system_fingerprint': 'fp_bba3c8e70b', 'finish_reason': 'tool_calls', 'logprobs': None}, id='run-6d9d754d-fa55-4b29-8807-b4c7b35f545a-0', tool_calls=[{'name': 'sql_db_query', 'args': {'query': 'SELECT name, contactinformation FROM deliverypersonnel WHERE 5 = ANY(assignedorderids);'}, 'id': 'call_wXVR7YRFrTUoCejuYK0McfCH', 'type': 'tool_call'}], usage_metadata={'input_tokens': 1244, 'output_tokens': 33, 'total_tokens': 1277, 'input_token_details': {'audio': 0, 'cache_read': 0}, 'output_token_details': {'audio': 0, 'reasoning': 0}})]}}\n",
      "{'tools': {'messages': [ToolMessage(content=\"[('Ahmed Ali', '0300-1234567')]\", name='sql_db_query', id='824e5cea-df1f-4e63-8c56-72d6663fadf5', tool_call_id='call_wXVR7YRFrTUoCejuYK0McfCH')]}}\n",
      "{'sql_agent': {'messages': [AIMessage(content='', additional_kwargs={'tool_calls': [{'id': 'call_DognPnsYNnWMKW3TBRYMuLCe', 'function': {'arguments': '{\"query\":\"SELECT specialinstructions FROM orders WHERE orderid = 5;\"}', 'name': 'sql_db_query'}, 'type': 'function'}], 'refusal': None}, response_metadata={'token_usage': {'completion_tokens': 26, 'prompt_tokens': 1299, 'total_tokens': 1325, 'completion_tokens_details': {'audio_tokens': 0, 'reasoning_tokens': 0, 'accepted_prediction_tokens': 0, 'rejected_prediction_tokens': 0}, 'prompt_tokens_details': {'audio_tokens': 0, 'cached_tokens': 1152}}, 'model_name': 'gpt-4o-mini-2024-07-18', 'system_fingerprint': 'fp_bba3c8e70b', 'finish_reason': 'tool_calls', 'logprobs': None}, id='run-f9255469-8909-420d-89f1-ecd0262f1688-0', tool_calls=[{'name': 'sql_db_query', 'args': {'query': 'SELECT specialinstructions FROM orders WHERE orderid = 5;'}, 'id': 'call_DognPnsYNnWMKW3TBRYMuLCe', 'type': 'tool_call'}], usage_metadata={'input_tokens': 1299, 'output_tokens': 26, 'total_tokens': 1325, 'input_token_details': {'audio': 0, 'cache_read': 1152}, 'output_token_details': {'audio': 0, 'reasoning': 0}})]}}\n",
      "{'tools': {'messages': [ToolMessage(content=\"[('Less oil',)]\", name='sql_db_query', id='cda4cc2c-cc72-4777-abfa-9ce14e18d4be', tool_call_id='call_DognPnsYNnWMKW3TBRYMuLCe')]}}\n",
      "{'sql_agent': {'messages': [AIMessage(content=\"The delivery person for order number 5 is **Ahmed Ali**, and you can contact him at **0300-1234567**. \\n\\nRegarding the policy to contact delivery personnel, it typically involves using the provided contact information to reach out to them directly. If there are specific protocols or guidelines, those would usually be detailed in the service's terms or customer support resources.\", additional_kwargs={'refusal': None}, response_metadata={'token_usage': {'completion_tokens': 76, 'prompt_tokens': 1340, 'total_tokens': 1416, 'completion_tokens_details': {'audio_tokens': 0, 'reasoning_tokens': 0, 'accepted_prediction_tokens': 0, 'rejected_prediction_tokens': 0}, 'prompt_tokens_details': {'audio_tokens': 0, 'cached_tokens': 1152}}, 'model_name': 'gpt-4o-mini-2024-07-18', 'system_fingerprint': 'fp_bba3c8e70b', 'finish_reason': 'stop', 'logprobs': None}, id='run-bcde834d-8693-49d2-9f94-e05745907503-0', usage_metadata={'input_tokens': 1340, 'output_tokens': 76, 'total_tokens': 1416, 'input_token_details': {'audio': 0, 'cache_read': 1152}, 'output_token_details': {'audio': 0, 'reasoning': 0}})]}}\n",
      "{'coordinator': {'messages': [AIMessage(content='What is the policy to contact delivery personnel?', additional_kwargs={}, response_metadata={}, id='f70f1c75-9f31-4788-9a8a-13a1f0501c84', tool_calls=[{'name': 'ToRagAgent', 'args': {'query': 'What is the policy to contact delivery personnel?'}, 'id': 'call_8EdeXwJW4RdAdyRKAvkmRP5H', 'type': 'tool_call'}])], 'pending_tool_calls': [], 'agent_responses': [\"The delivery person for order number 5 is **Ahmed Ali**, and you can contact him at **0300-1234567**. \\n\\nRegarding the policy to contact delivery personnel, it typically involves using the provided contact information to reach out to them directly. If there are specific protocols or guidelines, those would usually be detailed in the service's terms or customer support resources.\"]}}\n",
      "{'enter_rag_agent': {'messages': [ToolMessage(content='The assistant is now the Customer RAG Agent. Do not mention who you are - just act as the proxy for the assistant.', id='ba36f74a-46eb-48df-83c4-21173b6ed130', tool_call_id='call_8EdeXwJW4RdAdyRKAvkmRP5H')]}}\n",
      "{'rag_agent': {'messages': [AIMessage(content=\"The provided context does not explicitly detail a specific policy regarding contacting delivery personnel. However, it suggests that once the delivery partner has picked up the order, changing the delivery address is typically not allowed due to logistical reasons. If you need to contact customer support regarding your order, you can do so through the Uber Eats app by navigating to your active order and selecting the option to contact customer support. For any issues or requests related to the delivery, it is recommended to communicate through the app's support options.\", additional_kwargs={'refusal': None}, response_metadata={'token_usage': {'completion_tokens': 100, 'prompt_tokens': 775, 'total_tokens': 875, 'completion_tokens_details': {'audio_tokens': 0, 'reasoning_tokens': 0, 'accepted_prediction_tokens': 0, 'rejected_prediction_tokens': 0}, 'prompt_tokens_details': {'audio_tokens': 0, 'cached_tokens': 0}}, 'model_name': 'gpt-4o-mini-2024-07-18', 'system_fingerprint': 'fp_bba3c8e70b', 'finish_reason': 'stop', 'logprobs': None}, id='run-1220de18-2846-4f74-aaa3-4eac10f781f4-0', usage_metadata={'input_tokens': 775, 'output_tokens': 100, 'total_tokens': 875, 'input_token_details': {'audio': 0, 'cache_read': 0}, 'output_token_details': {'audio': 0, 'reasoning': 0}})]}}\n",
      "{'coordinator': {'messages': [AIMessage(content='', additional_kwargs={'tool_calls': [{'id': 'call_60eNlGcSjLx2GCV20N4oXRmw', 'function': {'arguments': '{\"input\": \"The delivery person for order number 5 is **Ahmed Ali**, and you can contact him at **0300-1234567**. \\\\n\\\\nRegarding the policy to contact delivery personnel, it typically involves using the provided contact information to reach out to them directly. If you need to contact customer support regarding your order, you can do so through the Uber Eats app by navigating to your active order and selecting the option to contact customer support. For any issues or requests related to the delivery, it is recommended to communicate through the app\\'s support options.\"}', 'name': 'ToAssistant'}, 'type': 'function'}], 'refusal': None}, response_metadata={'token_usage': {'completion_tokens': 140, 'prompt_tokens': 1353, 'total_tokens': 1493, 'completion_tokens_details': {'audio_tokens': 0, 'reasoning_tokens': 0, 'accepted_prediction_tokens': 0, 'rejected_prediction_tokens': 0}, 'prompt_tokens_details': {'audio_tokens': 0, 'cached_tokens': 0}}, 'model_name': 'gpt-4o-mini-2024-07-18', 'system_fingerprint': 'fp_bba3c8e70b', 'finish_reason': 'tool_calls', 'logprobs': None}, id='run-f10a2510-0251-4b16-ba1f-d7a0fdb76c8b-0', tool_calls=[{'name': 'ToAssistant', 'args': {'input': \"The delivery person for order number 5 is **Ahmed Ali**, and you can contact him at **0300-1234567**. \\n\\nRegarding the policy to contact delivery personnel, it typically involves using the provided contact information to reach out to them directly. If you need to contact customer support regarding your order, you can do so through the Uber Eats app by navigating to your active order and selecting the option to contact customer support. For any issues or requests related to the delivery, it is recommended to communicate through the app's support options.\"}, 'id': 'call_60eNlGcSjLx2GCV20N4oXRmw', 'type': 'tool_call'}], usage_metadata={'input_tokens': 1353, 'output_tokens': 140, 'total_tokens': 1493, 'input_token_details': {'audio': 0, 'cache_read': 0}, 'output_token_details': {'audio': 0, 'reasoning': 0}})]}}\n",
      "{'enter_assistant': {'messages': [ToolMessage(content='The assistant is now the General Assistant. Do not mention who you are - just act as the proxy for the assistant.', id='91b6247c-5af8-4950-8fa6-c060e8101b6a', tool_call_id='call_60eNlGcSjLx2GCV20N4oXRmw')]}}\n",
      "{'assistant': {'messages': [AIMessage(content='The delivery person for order number 5 is **Ahmed Ali**, and you can contact him at **0300-1234567**.\\n\\nRegarding the policy to contact delivery personnel, you can use the provided contact information to reach out to them directly. Additionally, if you need assistance or have any issues, you can contact customer support through the Uber Eats app by navigating to your active order and selecting the option to get help. This ensures that any concerns are addressed promptly and efficiently.', additional_kwargs={'refusal': None}, response_metadata={'token_usage': {'completion_tokens': 96, 'prompt_tokens': 1333, 'total_tokens': 1429, 'completion_tokens_details': {'audio_tokens': 0, 'reasoning_tokens': 0, 'accepted_prediction_tokens': 0, 'rejected_prediction_tokens': 0}, 'prompt_tokens_details': {'audio_tokens': 0, 'cached_tokens': 0}}, 'model_name': 'gpt-4o-mini-2024-07-18', 'system_fingerprint': 'fp_bba3c8e70b', 'finish_reason': 'stop', 'logprobs': None}, id='run-2a8ceb9c-a125-4100-824c-7785727bd8c7-0', usage_metadata={'input_tokens': 1333, 'output_tokens': 96, 'total_tokens': 1429, 'input_token_details': {'audio': 0, 'cache_read': 0}, 'output_token_details': {'audio': 0, 'reasoning': 0}})], 'pending_tool_calls': [], 'agent_responses': []}}\n"
     ]
    }
   ],
   "source": [
    "config = {\"configurable\": {\"thread_id\": \"1\"}}\n",
    "\n",
    "# Initialize the state with pending_tool_calls key\n",
    "initial_state = {\n",
    "    \"messages\": [],\n",
    "    \"pending_tool_calls\": [],\n",
    "    \"agent_responses\": []\n",
    "}\n",
    "\n",
    "graph.update_state(config, initial_state)\n",
    "\n",
    "# inputs = {\"messages\": [{\"role\": \"user\", \"content\": \"Who is delivering order number 5, and how can I contact them?\"}]}\n",
    "inputs = {\"messages\": [{\"role\": \"user\", \"content\": \"Who is delivering order number 5, and what is the policy to contact delivery personnel?\"}]}\n",
    "# inputs = {\"messages\": [{\"role\": \"user\", \"content\": \"what is the refund policy?\"}]}\n",
    "# inputs = {\"messages\": [{\"role\": \"user\", \"content\": \"what is the status of order number 3?\"}]}\n",
    "# inputs = {\"messages\": [{\"role\": \"user\", \"content\": \"Can I change the delivery address after placing the order?\"}]}\n",
    "# inputs = {\"messages\": [{\"role\": \"user\", \"content\": \"please update the status of order number 3 in the sql database to Rejected.\"}]}\n",
    "for update in graph.stream(inputs, config=config, stream_mode=\"updates\"):\n",
    "    print(update)"
   ]
  },
  {
   "cell_type": "code",
   "execution_count": 10,
   "metadata": {},
   "outputs": [
    {
     "name": "stdout",
     "output_type": "stream",
     "text": [
      "================================\u001b[1m Human Message \u001b[0m=================================\n",
      "\n",
      "Who is delivering order number 5, and what is the policy to contact delivery personnel?\n",
      "==================================\u001b[1m Ai Message \u001b[0m==================================\n",
      "Tool Calls:\n",
      "  ToSqlAgent (call_v0emFXelh0P3uPgWp1MI3IKi)\n",
      " Call ID: call_v0emFXelh0P3uPgWp1MI3IKi\n",
      "  Args:\n",
      "    query: Who is delivering order number 5?\n",
      "=================================\u001b[1m Tool Message \u001b[0m=================================\n",
      "\n",
      "The assistant is now the SQL Agent. Do not mention who you are - just act as the proxy for the assistant.\n",
      "==================================\u001b[1m Ai Message \u001b[0m==================================\n",
      "Tool Calls:\n",
      "  sql_db_list_tables (call_fBQiRfOdsOokF3HliMCYipJB)\n",
      " Call ID: call_fBQiRfOdsOokF3HliMCYipJB\n",
      "  Args:\n",
      "=================================\u001b[1m Tool Message \u001b[0m=================================\n",
      "Name: sql_db_list_tables\n",
      "\n",
      "customers, deliverypersonnel, feedbackcomplaints, fooditems, orderitems, orders, payments, restaurants\n",
      "==================================\u001b[1m Ai Message \u001b[0m==================================\n",
      "Tool Calls:\n",
      "  sql_db_schema (call_uC85NRJ2VVEJXGt2VQYi5Gxj)\n",
      " Call ID: call_uC85NRJ2VVEJXGt2VQYi5Gxj\n",
      "  Args:\n",
      "    table_names: orders\n",
      "  sql_db_schema (call_tmfruq0K6X9cuX5jBjgOmm8z)\n",
      " Call ID: call_tmfruq0K6X9cuX5jBjgOmm8z\n",
      "  Args:\n",
      "    table_names: deliverypersonnel\n",
      "=================================\u001b[1m Tool Message \u001b[0m=================================\n",
      "Name: sql_db_schema\n",
      "\n",
      "\n",
      "CREATE TABLE orders (\n",
      "\torderid SERIAL NOT NULL, \n",
      "\tcustomerid INTEGER, \n",
      "\trestaurantid INTEGER, \n",
      "\torderstatus VARCHAR(50), \n",
      "\ttotalcost DOUBLE PRECISION, \n",
      "\tdeliveryaddress VARCHAR(255), \n",
      "\torderdate TIMESTAMP WITHOUT TIME ZONE DEFAULT CURRENT_TIMESTAMP, \n",
      "\tpaymentmethod VARCHAR(100), \n",
      "\tspecialinstructions TEXT, \n",
      "\tCONSTRAINT orders_pkey PRIMARY KEY (orderid), \n",
      "\tCONSTRAINT orders_customerid_fkey FOREIGN KEY(customerid) REFERENCES customers (customerid), \n",
      "\tCONSTRAINT orders_restaurantid_fkey FOREIGN KEY(restaurantid) REFERENCES restaurants (restaurantid)\n",
      ")\n",
      "\n",
      "/*\n",
      "3 rows from orders table:\n",
      "orderid\tcustomerid\trestaurantid\torderstatus\ttotalcost\tdeliveryaddress\torderdate\tpaymentmethod\tspecialinstructions\n",
      "1\t1\t1\tCompleted\t1200.5\tGulberg, Lahore\t2024-10-20 12:06:28.371072\tVisa\tNo onions please\n",
      "2\t2\t2\tIn Progress\t1500.75\tDHA, Karachi\t2024-10-20 12:06:28.371072\tEasypaisa\tExtra spicy\n",
      "4\t4\t4\tCompleted\t2000.0\tCantt, Peshawar\t2024-10-20 12:06:28.371072\tVisa\tAdd extra sauce\n",
      "*/\n",
      "=================================\u001b[1m Tool Message \u001b[0m=================================\n",
      "Name: sql_db_schema\n",
      "\n",
      "\n",
      "CREATE TABLE deliverypersonnel (\n",
      "\tdeliveryid SERIAL NOT NULL, \n",
      "\tassignedorderids INTEGER[], \n",
      "\tname VARCHAR(255), \n",
      "\tcontactinformation VARCHAR(255), \n",
      "\tcurrentlocation VARCHAR(255), \n",
      "\tCONSTRAINT deliverypersonnel_pkey PRIMARY KEY (deliveryid)\n",
      ")\n",
      "\n",
      "/*\n",
      "3 rows from deliverypersonnel table:\n",
      "deliveryid\tassignedorderids\tname\tcontactinformation\tcurrentlocation\n",
      "1\t[1, 4, 5]\tAhmed Ali\t0300-1234567\tGulberg, Lahore\n",
      "2\t[2, 8, 6]\tImran Khan\t0320-1234567\tDHA, Karachi\n",
      "3\t[3, 9, 7]\tAsad Khan\t0301-1234567\tBlue Area, Islamabad\n",
      "*/\n",
      "==================================\u001b[1m Ai Message \u001b[0m==================================\n",
      "Tool Calls:\n",
      "  sql_db_query (call_wXVR7YRFrTUoCejuYK0McfCH)\n",
      " Call ID: call_wXVR7YRFrTUoCejuYK0McfCH\n",
      "  Args:\n",
      "    query: SELECT name, contactinformation FROM deliverypersonnel WHERE 5 = ANY(assignedorderids);\n",
      "=================================\u001b[1m Tool Message \u001b[0m=================================\n",
      "Name: sql_db_query\n",
      "\n",
      "[('Ahmed Ali', '0300-1234567')]\n",
      "==================================\u001b[1m Ai Message \u001b[0m==================================\n",
      "Tool Calls:\n",
      "  sql_db_query (call_DognPnsYNnWMKW3TBRYMuLCe)\n",
      " Call ID: call_DognPnsYNnWMKW3TBRYMuLCe\n",
      "  Args:\n",
      "    query: SELECT specialinstructions FROM orders WHERE orderid = 5;\n",
      "=================================\u001b[1m Tool Message \u001b[0m=================================\n",
      "Name: sql_db_query\n",
      "\n",
      "[('Less oil',)]\n",
      "==================================\u001b[1m Ai Message \u001b[0m==================================\n",
      "\n",
      "The delivery person for order number 5 is **Ahmed Ali**, and you can contact him at **0300-1234567**. \n",
      "\n",
      "Regarding the policy to contact delivery personnel, it typically involves using the provided contact information to reach out to them directly. If there are specific protocols or guidelines, those would usually be detailed in the service's terms or customer support resources.\n",
      "==================================\u001b[1m Ai Message \u001b[0m==================================\n",
      "\n",
      "What is the policy to contact delivery personnel?\n",
      "Tool Calls:\n",
      "  ToRagAgent (call_8EdeXwJW4RdAdyRKAvkmRP5H)\n",
      " Call ID: call_8EdeXwJW4RdAdyRKAvkmRP5H\n",
      "  Args:\n",
      "    query: What is the policy to contact delivery personnel?\n",
      "=================================\u001b[1m Tool Message \u001b[0m=================================\n",
      "\n",
      "The assistant is now the Customer RAG Agent. Do not mention who you are - just act as the proxy for the assistant.\n",
      "==================================\u001b[1m Ai Message \u001b[0m==================================\n",
      "\n",
      "The provided context does not explicitly detail a specific policy regarding contacting delivery personnel. However, it suggests that once the delivery partner has picked up the order, changing the delivery address is typically not allowed due to logistical reasons. If you need to contact customer support regarding your order, you can do so through the Uber Eats app by navigating to your active order and selecting the option to contact customer support. For any issues or requests related to the delivery, it is recommended to communicate through the app's support options.\n",
      "==================================\u001b[1m Ai Message \u001b[0m==================================\n",
      "Tool Calls:\n",
      "  ToAssistant (call_60eNlGcSjLx2GCV20N4oXRmw)\n",
      " Call ID: call_60eNlGcSjLx2GCV20N4oXRmw\n",
      "  Args:\n",
      "    input: The delivery person for order number 5 is **Ahmed Ali**, and you can contact him at **0300-1234567**. \n",
      "\n",
      "Regarding the policy to contact delivery personnel, it typically involves using the provided contact information to reach out to them directly. If you need to contact customer support regarding your order, you can do so through the Uber Eats app by navigating to your active order and selecting the option to contact customer support. For any issues or requests related to the delivery, it is recommended to communicate through the app's support options.\n",
      "=================================\u001b[1m Tool Message \u001b[0m=================================\n",
      "\n",
      "The assistant is now the General Assistant. Do not mention who you are - just act as the proxy for the assistant.\n",
      "==================================\u001b[1m Ai Message \u001b[0m==================================\n",
      "\n",
      "The delivery person for order number 5 is **Ahmed Ali**, and you can contact him at **0300-1234567**.\n",
      "\n",
      "Regarding the policy to contact delivery personnel, you can use the provided contact information to reach out to them directly. Additionally, if you need assistance or have any issues, you can contact customer support through the Uber Eats app by navigating to your active order and selecting the option to get help. This ensures that any concerns are addressed promptly and efficiently.\n"
     ]
    }
   ],
   "source": [
    "for message in graph.get_state(config=config).values['messages']:\n",
    "    message.pretty_print()"
   ]
  },
  {
   "cell_type": "code",
   "execution_count": null,
   "metadata": {},
   "outputs": [
    {
     "data": {
      "text/plain": [
       "[]"
      ]
     },
     "execution_count": 135,
     "metadata": {},
     "output_type": "execute_result"
    }
   ],
   "source": [
    "state=graph.get_state(config=config).values\n",
    "# state[\"messages\"][-2].tool_calls[0][\"args\"][\"query\"]\n",
    "state[\"agent_responses\"]"
   ]
  },
  {
   "cell_type": "markdown",
   "metadata": {},
   "source": [
    "## Test Coordinator's routing capabilities"
   ]
  },
  {
   "cell_type": "code",
   "execution_count": 136,
   "metadata": {},
   "outputs": [
    {
     "name": "stdout",
     "output_type": "stream",
     "text": [
      "[{'name': 'ToSqlAgent', 'args': {'query': 'Check the status of the latest order for CustomerID 7.'}, 'id': 'call_6TrHsVb83ps5NpwxaeF28Kyd', 'type': 'tool_call'}]\n",
      "[{'name': 'ToSqlAgent', 'args': {'query': 'Fetch the total amount spent by the user on their last order.'}, 'id': 'call_D5ExTGKLfyCcwSwMx6lsLiac', 'type': 'tool_call'}]\n",
      "[{'name': 'ToSqlAgent', 'args': {'query': 'What items did the customer order last time?'}, 'id': 'call_pO8b1ggXCYsnfOq8cHZbTnhM', 'type': 'tool_call'}]\n",
      "[{'name': 'ToSqlAgent', 'args': {'query': \"Get the delivery personnel information for the current user's order.\"}, 'id': 'call_bBnChb9avjjMHR3eSeRvWwfX', 'type': 'tool_call'}, {'name': 'ToRagAgent', 'args': {'query': 'How to contact delivery personnel for an order?'}, 'id': 'call_XyEdymeT2zj0ZMNZqPH2t7RR', 'type': 'tool_call'}]\n",
      "[{'name': 'ToSqlAgent', 'args': {'query': \"Check if there are any pending payments for the user's order.\"}, 'id': 'call_Dv6poNuahwNEamJMnovgkylC', 'type': 'tool_call'}]\n",
      "[{'name': 'ToSqlAgent', 'args': {'query': 'What is the expected delivery time for the current order of the user?'}, 'id': 'call_Kd4q352c0K0lsrzxICE0y9gx', 'type': 'tool_call'}]\n",
      "[{'name': 'ToRagAgent', 'args': {'query': 'Can customers add special instructions to their ongoing orders?'}, 'id': 'call_t2eqTzKXetDJUQsVObdhcoNV', 'type': 'tool_call'}]\n",
      "[{'name': 'ToRagAgent', 'args': {'query': 'Can customers add or change items in their orders after placing them?'}, 'id': 'call_3SEOJPXp0xLbfrJ0v4rqK3jf', 'type': 'tool_call'}, {'name': 'ToSqlAgent', 'args': {'query': 'Fetch the current policies regarding order modifications for customers.'}, 'id': 'call_El8PgwYLVz8R4I0C53sZOhYc', 'type': 'tool_call'}]\n"
     ]
    }
   ],
   "source": [
    "order_status_details = [\n",
    "    \"Hi, my name is Umar Siddiqui and my CustomerID is 7. Can you check the status of my latest order?\",\n",
    "    \"How much did I spend on my last order?\",\n",
    "    \"What items did I order last time?\",\n",
    "    \"Who is delivering my order, and how can I contact them?\",\n",
    "    \"Are there any pending payments on my order?\",\n",
    "    \"What's the expected delivery time for my current order?\",\n",
    "    \"Can I add special instructions to my ongoing order?\",\n",
    "    \"Is there a way to add or change items in my order now?\"\n",
    "]\n",
    "\n",
    "for query in order_status_details:\n",
    "    messages = [{\"role\": \"system\", \"content\": coordinator_prompt}] + [{\"role\": \"user\", \"content\": query}]\n",
    "    response = router_llm.invoke(messages)\n",
    "    print(response.tool_calls)"
   ]
  }
 ],
 "metadata": {
  "kernelspec": {
   "display_name": "cs6303",
   "language": "python",
   "name": "python3"
  },
  "language_info": {
   "codemirror_mode": {
    "name": "ipython",
    "version": 3
   },
   "file_extension": ".py",
   "mimetype": "text/x-python",
   "name": "python",
   "nbconvert_exporter": "python",
   "pygments_lexer": "ipython3",
   "version": "3.11.10"
  }
 },
 "nbformat": 4,
 "nbformat_minor": 2
}
